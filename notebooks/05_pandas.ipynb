{
 "cells": [
  {
   "cell_type": "markdown",
   "metadata": {
    "slideshow": {
     "slide_type": "slide"
    }
   },
   "source": [
    "## Lecture 4\n",
    "\n",
    "### Pandas"
   ]
  },
  {
   "cell_type": "markdown",
   "metadata": {
    "slideshow": {
     "slide_type": "slide"
    }
   },
   "source": [
    "In the previous lecture we saw the package `numpy`. `numpy` is fantastic for dealing with numerical data.\n",
    "\n",
    "`pandas` is a package for dealing with *structured* data of mixed type. A common form of *structured data* is tabular, or spreadsheet data, where each column stores a different type of data (e.g. strings, dates, numerical values).\n",
    "\n",
    "Rule of thumb: Whenever you reach for an Excel spreadsheet, you should strongly consider using `pandas` instead!"
   ]
  },
  {
   "cell_type": "markdown",
   "metadata": {
    "slideshow": {
     "slide_type": "slide"
    }
   },
   "source": [
    "Let's get started with some data!\n",
    "\n",
    "This example is adapted from Wes McKinney's excellent book \"Python for Data Analysis\"\n",
    "\n",
    "MovieLens Latest Data - 100,000 ratings and 3,600 tag applications applied to 9,000 movies by 600 users. \n",
    "\n",
    "https://grouplens.org/datasets/movielens/"
   ]
  },
  {
   "cell_type": "code",
   "execution_count": 1,
   "metadata": {
    "slideshow": {
     "slide_type": "slide"
    }
   },
   "outputs": [
    {
     "name": "stdout",
     "output_type": "stream",
     "text": [
      "/opt/notebooks\n"
     ]
    },
    {
     "data": {
      "text/plain": [
       "('ml-1m.zip', <http.client.HTTPMessage at 0x7f0b6841bfa0>)"
      ]
     },
     "execution_count": 1,
     "metadata": {},
     "output_type": "execute_result"
    }
   ],
   "source": [
    "%cd /opt/notebooks\n",
    "import urllib\n",
    "urllib.request.urlretrieve(\"http://files.grouplens.org/datasets/movielens/ml-1m.zip\", \n",
    "                           \"ml-1m.zip\")"
   ]
  },
  {
   "cell_type": "code",
   "execution_count": 2,
   "metadata": {
    "slideshow": {
     "slide_type": "slide"
    }
   },
   "outputs": [],
   "source": [
    "import zipfile\n",
    "with zipfile.ZipFile(\"ml-1m.zip\",\"r\") as f:\n",
    "    f.extractall(\".\")"
   ]
  },
  {
   "cell_type": "code",
   "execution_count": 3,
   "metadata": {
    "slideshow": {
     "slide_type": "slide"
    }
   },
   "outputs": [
    {
     "name": "stdout",
     "output_type": "stream",
     "text": [
      "LICENSE    _config.yml  \u001b[0m\u001b[01;34mdocker\u001b[0m/  ml-1m.zip   \u001b[01;32mstart.sh\u001b[0m*\r\n",
      "README.md  \u001b[01;32mbuild.sh\u001b[0m*    \u001b[01;34mml-1m\u001b[0m/   \u001b[01;34mnotebooks\u001b[0m/\r\n"
     ]
    }
   ],
   "source": [
    "%ls"
   ]
  },
  {
   "cell_type": "code",
   "execution_count": 4,
   "metadata": {
    "slideshow": {
     "slide_type": "slide"
    }
   },
   "outputs": [
    {
     "name": "stdout",
     "output_type": "stream",
     "text": [
      "/opt/notebooks/ml-1m\n"
     ]
    }
   ],
   "source": [
    "%cd ml-1m/"
   ]
  },
  {
   "cell_type": "code",
   "execution_count": 5,
   "metadata": {
    "slideshow": {
     "slide_type": "slide"
    }
   },
   "outputs": [
    {
     "name": "stdout",
     "output_type": "stream",
     "text": [
      "README  movies.dat  ratings.dat  users.dat\r\n"
     ]
    }
   ],
   "source": [
    "%ls"
   ]
  },
  {
   "cell_type": "code",
   "execution_count": 6,
   "metadata": {
    "slideshow": {
     "slide_type": "slide"
    }
   },
   "outputs": [
    {
     "name": "stdout",
     "output_type": "stream",
     "text": [
      "SUMMARY\r\n",
      "================================================================================\r\n",
      "\r\n",
      "These files contain 1,000,209 anonymous ratings of approximately 3,900 movies \r\n",
      "made by 6,040 MovieLens users who joined MovieLens in 2000.\r\n",
      "\r\n",
      "USAGE LICENSE\r\n",
      "================================================================================\r\n",
      "\r\n",
      "Neither the University of Minnesota nor any of the researchers\r\n",
      "involved can guarantee the correctness of the data, its suitability\r\n",
      "for any particular purpose, or the validity of results based on the\r\n",
      "use of the data set.  The data set may be used for any research\r\n",
      "purposes under the following conditions:\r\n",
      "\r\n",
      "     * The user may not state or imply any endorsement from the\r\n",
      "       University of Minnesota or the GroupLens Research Group.\r\n",
      "\r\n",
      "     * The user must acknowledge the use of the data set in\r\n",
      "       publications resulting from the use of the data set\r\n",
      "       (see below for citation information).\r\n",
      "\r\n",
      "     * The user may not redistribute the data without separate\r\n",
      "       permission.\r\n",
      "\r\n",
      "     * The user may not use this information for any commercial or\r\n",
      "       revenue-bearing purposes without first obtaining permission\r\n",
      "       from a faculty member of the GroupLens Research Project at the\r\n",
      "       University of Minnesota.\r\n",
      "\r\n",
      "If you have any further questions or comments, please contact GroupLens\r\n",
      "<grouplens-info@cs.umn.edu>. \r\n",
      "\r\n",
      "CITATION\r\n",
      "================================================================================\r\n",
      "\r\n",
      "To acknowledge use of the dataset in publications, please cite the following\r\n",
      "paper:\r\n",
      "\r\n",
      "F. Maxwell Harper and Joseph A. Konstan. 2015. The MovieLens Datasets: History\r\n",
      "and Context. ACM Transactions on Interactive Intelligent Systems (TiiS) 5, 4,\r\n",
      "Article 19 (December 2015), 19 pages. DOI=http://dx.doi.org/10.1145/2827872\r\n",
      "\r\n",
      "\r\n",
      "ACKNOWLEDGEMENTS\r\n",
      "================================================================================\r\n",
      "\r\n",
      "Thanks to Shyong Lam and Jon Herlocker for cleaning up and generating the data\r\n",
      "set.\r\n",
      "\r\n",
      "FURTHER INFORMATION ABOUT THE GROUPLENS RESEARCH PROJECT\r\n",
      "================================================================================\r\n",
      "\r\n",
      "The GroupLens Research Project is a research group in the Department of \r\n",
      "Computer Science and Engineering at the University of Minnesota. Members of \r\n",
      "the GroupLens Research Project are involved in many research projects related \r\n",
      "to the fields of information filtering, collaborative filtering, and \r\n",
      "recommender systems. The project is lead by professors John Riedl and Joseph \r\n",
      "Konstan. The project began to explore automated collaborative filtering in \r\n",
      "1992, but is most well known for its world wide trial of an automated \r\n",
      "collaborative filtering system for Usenet news in 1996. Since then the project \r\n",
      "has expanded its scope to research overall information filtering solutions, \r\n",
      "integrating in content-based methods as well as improving current collaborative \r\n",
      "filtering technology.\r\n",
      "\r\n",
      "Further information on the GroupLens Research project, including research \r\n",
      "publications, can be found at the following web site:\r\n",
      "        \r\n",
      "        http://www.grouplens.org/\r\n",
      "\r\n",
      "GroupLens Research currently operates a movie recommender based on \r\n",
      "collaborative filtering:\r\n",
      "\r\n",
      "        http://www.movielens.org/\r\n",
      "\r\n",
      "RATINGS FILE DESCRIPTION\r\n",
      "================================================================================\r\n",
      "\r\n",
      "All ratings are contained in the file \"ratings.dat\" and are in the\r\n",
      "following format:\r\n",
      "\r\n",
      "UserID::MovieID::Rating::Timestamp\r\n",
      "\r\n",
      "- UserIDs range between 1 and 6040 \r\n",
      "- MovieIDs range between 1 and 3952\r\n",
      "- Ratings are made on a 5-star scale (whole-star ratings only)\r\n",
      "- Timestamp is represented in seconds since the epoch as returned by time(2)\r\n",
      "- Each user has at least 20 ratings\r\n",
      "\r\n",
      "USERS FILE DESCRIPTION\r\n",
      "================================================================================\r\n",
      "\r\n",
      "User information is in the file \"users.dat\" and is in the following\r\n",
      "format:\r\n",
      "\r\n",
      "UserID::Gender::Age::Occupation::Zip-code\r\n",
      "\r\n",
      "All demographic information is provided voluntarily by the users and is\r\n",
      "not checked for accuracy.  Only users who have provided some demographic\r\n",
      "information are included in this data set.\r\n",
      "\r\n",
      "- Gender is denoted by a \"M\" for male and \"F\" for female\r\n",
      "- Age is chosen from the following ranges:\r\n",
      "\r\n",
      "\t*  1:  \"Under 18\"\r\n",
      "\t* 18:  \"18-24\"\r\n",
      "\t* 25:  \"25-34\"\r\n",
      "\t* 35:  \"35-44\"\r\n",
      "\t* 45:  \"45-49\"\r\n",
      "\t* 50:  \"50-55\"\r\n",
      "\t* 56:  \"56+\"\r\n",
      "\r\n",
      "- Occupation is chosen from the following choices:\r\n",
      "\r\n",
      "\t*  0:  \"other\" or not specified\r\n",
      "\t*  1:  \"academic/educator\"\r\n",
      "\t*  2:  \"artist\"\r\n",
      "\t*  3:  \"clerical/admin\"\r\n",
      "\t*  4:  \"college/grad student\"\r\n",
      "\t*  5:  \"customer service\"\r\n",
      "\t*  6:  \"doctor/health care\"\r\n",
      "\t*  7:  \"executive/managerial\"\r\n",
      "\t*  8:  \"farmer\"\r\n",
      "\t*  9:  \"homemaker\"\r\n",
      "\t* 10:  \"K-12 student\"\r\n",
      "\t* 11:  \"lawyer\"\r\n",
      "\t* 12:  \"programmer\"\r\n",
      "\t* 13:  \"retired\"\r\n",
      "\t* 14:  \"sales/marketing\"\r\n",
      "\t* 15:  \"scientist\"\r\n",
      "\t* 16:  \"self-employed\"\r\n",
      "\t* 17:  \"technician/engineer\"\r\n",
      "\t* 18:  \"tradesman/craftsman\"\r\n",
      "\t* 19:  \"unemployed\"\r\n",
      "\t* 20:  \"writer\"\r\n",
      "\r\n",
      "MOVIES FILE DESCRIPTION\r\n",
      "================================================================================\r\n",
      "\r\n",
      "Movie information is in the file \"movies.dat\" and is in the following\r\n",
      "format:\r\n",
      "\r\n",
      "MovieID::Title::Genres\r\n",
      "\r\n",
      "- Titles are identical to titles provided by the IMDB (including\r\n",
      "year of release)\r\n",
      "- Genres are pipe-separated and are selected from the following genres:\r\n",
      "\r\n",
      "\t* Action\r\n",
      "\t* Adventure\r\n",
      "\t* Animation\r\n",
      "\t* Children's\r\n",
      "\t* Comedy\r\n",
      "\t* Crime\r\n",
      "\t* Documentary\r\n",
      "\t* Drama\r\n",
      "\t* Fantasy\r\n",
      "\t* Film-Noir\r\n",
      "\t* Horror\r\n",
      "\t* Musical\r\n",
      "\t* Mystery\r\n",
      "\t* Romance\r\n",
      "\t* Sci-Fi\r\n",
      "\t* Thriller\r\n",
      "\t* War\r\n",
      "\t* Western\r\n",
      "\r\n",
      "- Some MovieIDs do not correspond to a movie due to accidental duplicate\r\n",
      "entries and/or test entries\r\n",
      "- Movies are mostly entered by hand, so errors and inconsistencies may exist\r\n"
     ]
    }
   ],
   "source": [
    "%cat README"
   ]
  },
  {
   "cell_type": "code",
   "execution_count": 7,
   "metadata": {
    "slideshow": {
     "slide_type": "slide"
    }
   },
   "outputs": [
    {
     "name": "stdout",
     "output_type": "stream",
     "text": [
      "/opt/notebooks\n"
     ]
    }
   ],
   "source": [
    "%cd ../"
   ]
  },
  {
   "cell_type": "markdown",
   "metadata": {
    "slideshow": {
     "slide_type": "slide"
    }
   },
   "source": [
    "Let's read in the data from the `ratings.csv` file. pandas has tools that make reading data from CSV (comma-seperated value) files very easy."
   ]
  },
  {
   "cell_type": "code",
   "execution_count": 8,
   "metadata": {
    "slideshow": {
     "slide_type": "fragment"
    }
   },
   "outputs": [],
   "source": [
    "import pandas as pd\n",
    "import numpy as np\n",
    "ratings_names = ['user_id', 'movie_id', 'rating', 'timestamp']\n",
    "ratings = pd.read_csv(\"ml-1m/ratings.dat\", sep='::', header=None, engine='python', names=ratings_names)"
   ]
  },
  {
   "cell_type": "code",
   "execution_count": 9,
   "metadata": {
    "scrolled": true,
    "slideshow": {
     "slide_type": "fragment"
    }
   },
   "outputs": [
    {
     "data": {
      "text/html": [
       "<div>\n",
       "<style scoped>\n",
       "    .dataframe tbody tr th:only-of-type {\n",
       "        vertical-align: middle;\n",
       "    }\n",
       "\n",
       "    .dataframe tbody tr th {\n",
       "        vertical-align: top;\n",
       "    }\n",
       "\n",
       "    .dataframe thead th {\n",
       "        text-align: right;\n",
       "    }\n",
       "</style>\n",
       "<table border=\"1\" class=\"dataframe\">\n",
       "  <thead>\n",
       "    <tr style=\"text-align: right;\">\n",
       "      <th></th>\n",
       "      <th>user_id</th>\n",
       "      <th>movie_id</th>\n",
       "      <th>rating</th>\n",
       "      <th>timestamp</th>\n",
       "    </tr>\n",
       "  </thead>\n",
       "  <tbody>\n",
       "    <tr>\n",
       "      <th>0</th>\n",
       "      <td>1</td>\n",
       "      <td>1193</td>\n",
       "      <td>5</td>\n",
       "      <td>978300760</td>\n",
       "    </tr>\n",
       "    <tr>\n",
       "      <th>1</th>\n",
       "      <td>1</td>\n",
       "      <td>661</td>\n",
       "      <td>3</td>\n",
       "      <td>978302109</td>\n",
       "    </tr>\n",
       "    <tr>\n",
       "      <th>2</th>\n",
       "      <td>1</td>\n",
       "      <td>914</td>\n",
       "      <td>3</td>\n",
       "      <td>978301968</td>\n",
       "    </tr>\n",
       "    <tr>\n",
       "      <th>3</th>\n",
       "      <td>1</td>\n",
       "      <td>3408</td>\n",
       "      <td>4</td>\n",
       "      <td>978300275</td>\n",
       "    </tr>\n",
       "    <tr>\n",
       "      <th>4</th>\n",
       "      <td>1</td>\n",
       "      <td>2355</td>\n",
       "      <td>5</td>\n",
       "      <td>978824291</td>\n",
       "    </tr>\n",
       "  </tbody>\n",
       "</table>\n",
       "</div>"
      ],
      "text/plain": [
       "   user_id  movie_id  rating  timestamp\n",
       "0        1      1193       5  978300760\n",
       "1        1       661       3  978302109\n",
       "2        1       914       3  978301968\n",
       "3        1      3408       4  978300275\n",
       "4        1      2355       5  978824291"
      ]
     },
     "execution_count": 9,
     "metadata": {},
     "output_type": "execute_result"
    }
   ],
   "source": [
    "ratings[:5]"
   ]
  },
  {
   "cell_type": "code",
   "execution_count": 10,
   "metadata": {
    "slideshow": {
     "slide_type": "slide"
    }
   },
   "outputs": [],
   "source": [
    "users_names = ['user_id', 'gender', 'age', 'occupation', 'zip']\n",
    "users = pd.read_csv(\"ml-1m/users.dat\", sep='::', header=None, engine='python', names=users_names)"
   ]
  },
  {
   "cell_type": "code",
   "execution_count": 11,
   "metadata": {
    "scrolled": true,
    "slideshow": {
     "slide_type": "subslide"
    }
   },
   "outputs": [
    {
     "data": {
      "text/html": [
       "<div>\n",
       "<style scoped>\n",
       "    .dataframe tbody tr th:only-of-type {\n",
       "        vertical-align: middle;\n",
       "    }\n",
       "\n",
       "    .dataframe tbody tr th {\n",
       "        vertical-align: top;\n",
       "    }\n",
       "\n",
       "    .dataframe thead th {\n",
       "        text-align: right;\n",
       "    }\n",
       "</style>\n",
       "<table border=\"1\" class=\"dataframe\">\n",
       "  <thead>\n",
       "    <tr style=\"text-align: right;\">\n",
       "      <th></th>\n",
       "      <th>user_id</th>\n",
       "      <th>gender</th>\n",
       "      <th>age</th>\n",
       "      <th>occupation</th>\n",
       "      <th>zip</th>\n",
       "    </tr>\n",
       "  </thead>\n",
       "  <tbody>\n",
       "    <tr>\n",
       "      <th>0</th>\n",
       "      <td>1</td>\n",
       "      <td>F</td>\n",
       "      <td>1</td>\n",
       "      <td>10</td>\n",
       "      <td>48067</td>\n",
       "    </tr>\n",
       "    <tr>\n",
       "      <th>1</th>\n",
       "      <td>2</td>\n",
       "      <td>M</td>\n",
       "      <td>56</td>\n",
       "      <td>16</td>\n",
       "      <td>70072</td>\n",
       "    </tr>\n",
       "    <tr>\n",
       "      <th>2</th>\n",
       "      <td>3</td>\n",
       "      <td>M</td>\n",
       "      <td>25</td>\n",
       "      <td>15</td>\n",
       "      <td>55117</td>\n",
       "    </tr>\n",
       "    <tr>\n",
       "      <th>3</th>\n",
       "      <td>4</td>\n",
       "      <td>M</td>\n",
       "      <td>45</td>\n",
       "      <td>7</td>\n",
       "      <td>02460</td>\n",
       "    </tr>\n",
       "    <tr>\n",
       "      <th>4</th>\n",
       "      <td>5</td>\n",
       "      <td>M</td>\n",
       "      <td>25</td>\n",
       "      <td>20</td>\n",
       "      <td>55455</td>\n",
       "    </tr>\n",
       "  </tbody>\n",
       "</table>\n",
       "</div>"
      ],
      "text/plain": [
       "   user_id gender  age  occupation    zip\n",
       "0        1      F    1          10  48067\n",
       "1        2      M   56          16  70072\n",
       "2        3      M   25          15  55117\n",
       "3        4      M   45           7  02460\n",
       "4        5      M   25          20  55455"
      ]
     },
     "execution_count": 11,
     "metadata": {},
     "output_type": "execute_result"
    }
   ],
   "source": [
    "users[:5]"
   ]
  },
  {
   "cell_type": "markdown",
   "metadata": {
    "slideshow": {
     "slide_type": "slide"
    }
   },
   "source": [
    "* *Exercise*. Look in the `README` file. Understand the columns in the `movies.dat` file. Read in the file into a variables `movies`."
   ]
  },
  {
   "cell_type": "code",
   "execution_count": 12,
   "metadata": {
    "slideshow": {
     "slide_type": "fragment"
    }
   },
   "outputs": [],
   "source": [
    "movies_names = ['movie_id', 'title', 'genres']\n",
    "movies = pd.read_csv(\"ml-1m/movies.dat\", sep='::', header=None, engine='python', names=movies_names)"
   ]
  },
  {
   "cell_type": "code",
   "execution_count": 13,
   "metadata": {
    "scrolled": true,
    "slideshow": {
     "slide_type": "fragment"
    }
   },
   "outputs": [
    {
     "data": {
      "text/html": [
       "<div>\n",
       "<style scoped>\n",
       "    .dataframe tbody tr th:only-of-type {\n",
       "        vertical-align: middle;\n",
       "    }\n",
       "\n",
       "    .dataframe tbody tr th {\n",
       "        vertical-align: top;\n",
       "    }\n",
       "\n",
       "    .dataframe thead th {\n",
       "        text-align: right;\n",
       "    }\n",
       "</style>\n",
       "<table border=\"1\" class=\"dataframe\">\n",
       "  <thead>\n",
       "    <tr style=\"text-align: right;\">\n",
       "      <th></th>\n",
       "      <th>movie_id</th>\n",
       "      <th>title</th>\n",
       "      <th>genres</th>\n",
       "    </tr>\n",
       "  </thead>\n",
       "  <tbody>\n",
       "    <tr>\n",
       "      <th>0</th>\n",
       "      <td>1</td>\n",
       "      <td>Toy Story (1995)</td>\n",
       "      <td>Animation|Children's|Comedy</td>\n",
       "    </tr>\n",
       "    <tr>\n",
       "      <th>1</th>\n",
       "      <td>2</td>\n",
       "      <td>Jumanji (1995)</td>\n",
       "      <td>Adventure|Children's|Fantasy</td>\n",
       "    </tr>\n",
       "    <tr>\n",
       "      <th>2</th>\n",
       "      <td>3</td>\n",
       "      <td>Grumpier Old Men (1995)</td>\n",
       "      <td>Comedy|Romance</td>\n",
       "    </tr>\n",
       "    <tr>\n",
       "      <th>3</th>\n",
       "      <td>4</td>\n",
       "      <td>Waiting to Exhale (1995)</td>\n",
       "      <td>Comedy|Drama</td>\n",
       "    </tr>\n",
       "    <tr>\n",
       "      <th>4</th>\n",
       "      <td>5</td>\n",
       "      <td>Father of the Bride Part II (1995)</td>\n",
       "      <td>Comedy</td>\n",
       "    </tr>\n",
       "  </tbody>\n",
       "</table>\n",
       "</div>"
      ],
      "text/plain": [
       "   movie_id                               title                        genres\n",
       "0         1                    Toy Story (1995)   Animation|Children's|Comedy\n",
       "1         2                      Jumanji (1995)  Adventure|Children's|Fantasy\n",
       "2         3             Grumpier Old Men (1995)                Comedy|Romance\n",
       "3         4            Waiting to Exhale (1995)                  Comedy|Drama\n",
       "4         5  Father of the Bride Part II (1995)                        Comedy"
      ]
     },
     "execution_count": 13,
     "metadata": {},
     "output_type": "execute_result"
    }
   ],
   "source": [
    "movies[:5]"
   ]
  },
  {
   "cell_type": "markdown",
   "metadata": {
    "slideshow": {
     "slide_type": "slide"
    }
   },
   "source": [
    "Things to note:\n",
    "\n",
    "* Each rating is tied to a single user by the `user_id`.\n",
    "* Each rating is tied to a single movie by the `movie_id`.\n",
    "\n",
    "We can use the `pandas.merge` function to join these seperate tables together."
   ]
  },
  {
   "cell_type": "code",
   "execution_count": 14,
   "metadata": {
    "slideshow": {
     "slide_type": "fragment"
    }
   },
   "outputs": [],
   "source": [
    "data = pd.merge(pd.merge(ratings, users), movies)"
   ]
  },
  {
   "cell_type": "code",
   "execution_count": 15,
   "metadata": {
    "slideshow": {
     "slide_type": "fragment"
    }
   },
   "outputs": [
    {
     "data": {
      "text/html": [
       "<div>\n",
       "<style scoped>\n",
       "    .dataframe tbody tr th:only-of-type {\n",
       "        vertical-align: middle;\n",
       "    }\n",
       "\n",
       "    .dataframe tbody tr th {\n",
       "        vertical-align: top;\n",
       "    }\n",
       "\n",
       "    .dataframe thead th {\n",
       "        text-align: right;\n",
       "    }\n",
       "</style>\n",
       "<table border=\"1\" class=\"dataframe\">\n",
       "  <thead>\n",
       "    <tr style=\"text-align: right;\">\n",
       "      <th></th>\n",
       "      <th>user_id</th>\n",
       "      <th>movie_id</th>\n",
       "      <th>rating</th>\n",
       "      <th>timestamp</th>\n",
       "      <th>gender</th>\n",
       "      <th>age</th>\n",
       "      <th>occupation</th>\n",
       "      <th>zip</th>\n",
       "      <th>title</th>\n",
       "      <th>genres</th>\n",
       "    </tr>\n",
       "  </thead>\n",
       "  <tbody>\n",
       "    <tr>\n",
       "      <th>0</th>\n",
       "      <td>1</td>\n",
       "      <td>1193</td>\n",
       "      <td>5</td>\n",
       "      <td>978300760</td>\n",
       "      <td>F</td>\n",
       "      <td>1</td>\n",
       "      <td>10</td>\n",
       "      <td>48067</td>\n",
       "      <td>One Flew Over the Cuckoo's Nest (1975)</td>\n",
       "      <td>Drama</td>\n",
       "    </tr>\n",
       "    <tr>\n",
       "      <th>1</th>\n",
       "      <td>2</td>\n",
       "      <td>1193</td>\n",
       "      <td>5</td>\n",
       "      <td>978298413</td>\n",
       "      <td>M</td>\n",
       "      <td>56</td>\n",
       "      <td>16</td>\n",
       "      <td>70072</td>\n",
       "      <td>One Flew Over the Cuckoo's Nest (1975)</td>\n",
       "      <td>Drama</td>\n",
       "    </tr>\n",
       "    <tr>\n",
       "      <th>2</th>\n",
       "      <td>12</td>\n",
       "      <td>1193</td>\n",
       "      <td>4</td>\n",
       "      <td>978220179</td>\n",
       "      <td>M</td>\n",
       "      <td>25</td>\n",
       "      <td>12</td>\n",
       "      <td>32793</td>\n",
       "      <td>One Flew Over the Cuckoo's Nest (1975)</td>\n",
       "      <td>Drama</td>\n",
       "    </tr>\n",
       "    <tr>\n",
       "      <th>3</th>\n",
       "      <td>15</td>\n",
       "      <td>1193</td>\n",
       "      <td>4</td>\n",
       "      <td>978199279</td>\n",
       "      <td>M</td>\n",
       "      <td>25</td>\n",
       "      <td>7</td>\n",
       "      <td>22903</td>\n",
       "      <td>One Flew Over the Cuckoo's Nest (1975)</td>\n",
       "      <td>Drama</td>\n",
       "    </tr>\n",
       "    <tr>\n",
       "      <th>4</th>\n",
       "      <td>17</td>\n",
       "      <td>1193</td>\n",
       "      <td>5</td>\n",
       "      <td>978158471</td>\n",
       "      <td>M</td>\n",
       "      <td>50</td>\n",
       "      <td>1</td>\n",
       "      <td>95350</td>\n",
       "      <td>One Flew Over the Cuckoo's Nest (1975)</td>\n",
       "      <td>Drama</td>\n",
       "    </tr>\n",
       "    <tr>\n",
       "      <th>5</th>\n",
       "      <td>18</td>\n",
       "      <td>1193</td>\n",
       "      <td>4</td>\n",
       "      <td>978156168</td>\n",
       "      <td>F</td>\n",
       "      <td>18</td>\n",
       "      <td>3</td>\n",
       "      <td>95825</td>\n",
       "      <td>One Flew Over the Cuckoo's Nest (1975)</td>\n",
       "      <td>Drama</td>\n",
       "    </tr>\n",
       "    <tr>\n",
       "      <th>6</th>\n",
       "      <td>19</td>\n",
       "      <td>1193</td>\n",
       "      <td>5</td>\n",
       "      <td>982730936</td>\n",
       "      <td>M</td>\n",
       "      <td>1</td>\n",
       "      <td>10</td>\n",
       "      <td>48073</td>\n",
       "      <td>One Flew Over the Cuckoo's Nest (1975)</td>\n",
       "      <td>Drama</td>\n",
       "    </tr>\n",
       "    <tr>\n",
       "      <th>7</th>\n",
       "      <td>24</td>\n",
       "      <td>1193</td>\n",
       "      <td>5</td>\n",
       "      <td>978136709</td>\n",
       "      <td>F</td>\n",
       "      <td>25</td>\n",
       "      <td>7</td>\n",
       "      <td>10023</td>\n",
       "      <td>One Flew Over the Cuckoo's Nest (1975)</td>\n",
       "      <td>Drama</td>\n",
       "    </tr>\n",
       "    <tr>\n",
       "      <th>8</th>\n",
       "      <td>28</td>\n",
       "      <td>1193</td>\n",
       "      <td>3</td>\n",
       "      <td>978125194</td>\n",
       "      <td>F</td>\n",
       "      <td>25</td>\n",
       "      <td>1</td>\n",
       "      <td>14607</td>\n",
       "      <td>One Flew Over the Cuckoo's Nest (1975)</td>\n",
       "      <td>Drama</td>\n",
       "    </tr>\n",
       "    <tr>\n",
       "      <th>9</th>\n",
       "      <td>33</td>\n",
       "      <td>1193</td>\n",
       "      <td>5</td>\n",
       "      <td>978557765</td>\n",
       "      <td>M</td>\n",
       "      <td>45</td>\n",
       "      <td>3</td>\n",
       "      <td>55421</td>\n",
       "      <td>One Flew Over the Cuckoo's Nest (1975)</td>\n",
       "      <td>Drama</td>\n",
       "    </tr>\n",
       "  </tbody>\n",
       "</table>\n",
       "</div>"
      ],
      "text/plain": [
       "   user_id  movie_id  rating  timestamp gender  age  occupation    zip  \\\n",
       "0        1      1193       5  978300760      F    1          10  48067   \n",
       "1        2      1193       5  978298413      M   56          16  70072   \n",
       "2       12      1193       4  978220179      M   25          12  32793   \n",
       "3       15      1193       4  978199279      M   25           7  22903   \n",
       "4       17      1193       5  978158471      M   50           1  95350   \n",
       "5       18      1193       4  978156168      F   18           3  95825   \n",
       "6       19      1193       5  982730936      M    1          10  48073   \n",
       "7       24      1193       5  978136709      F   25           7  10023   \n",
       "8       28      1193       3  978125194      F   25           1  14607   \n",
       "9       33      1193       5  978557765      M   45           3  55421   \n",
       "\n",
       "                                    title genres  \n",
       "0  One Flew Over the Cuckoo's Nest (1975)  Drama  \n",
       "1  One Flew Over the Cuckoo's Nest (1975)  Drama  \n",
       "2  One Flew Over the Cuckoo's Nest (1975)  Drama  \n",
       "3  One Flew Over the Cuckoo's Nest (1975)  Drama  \n",
       "4  One Flew Over the Cuckoo's Nest (1975)  Drama  \n",
       "5  One Flew Over the Cuckoo's Nest (1975)  Drama  \n",
       "6  One Flew Over the Cuckoo's Nest (1975)  Drama  \n",
       "7  One Flew Over the Cuckoo's Nest (1975)  Drama  \n",
       "8  One Flew Over the Cuckoo's Nest (1975)  Drama  \n",
       "9  One Flew Over the Cuckoo's Nest (1975)  Drama  "
      ]
     },
     "execution_count": 15,
     "metadata": {},
     "output_type": "execute_result"
    }
   ],
   "source": [
    "data[:10]"
   ]
  },
  {
   "cell_type": "markdown",
   "metadata": {
    "slideshow": {
     "slide_type": "slide"
    }
   },
   "source": [
    "## Slicing and selecting data\n",
    "\n",
    "pandas supports similar slicing and boolean operations on data as numpy."
   ]
  },
  {
   "cell_type": "markdown",
   "metadata": {
    "slideshow": {
     "slide_type": "slide"
    }
   },
   "source": [
    "Select the first 5 rows of the `gender` column."
   ]
  },
  {
   "cell_type": "code",
   "execution_count": 16,
   "metadata": {
    "slideshow": {
     "slide_type": "fragment"
    }
   },
   "outputs": [
    {
     "data": {
      "text/plain": [
       "0    F\n",
       "1    M\n",
       "2    M\n",
       "3    M\n",
       "4    M\n",
       "Name: gender, dtype: object"
      ]
     },
     "execution_count": 16,
     "metadata": {},
     "output_type": "execute_result"
    }
   ],
   "source": [
    "data[\"gender\"][:5]"
   ]
  },
  {
   "cell_type": "markdown",
   "metadata": {
    "slideshow": {
     "slide_type": "slide"
    }
   },
   "source": [
    "Select all ratings from user number 3663."
   ]
  },
  {
   "cell_type": "code",
   "execution_count": 17,
   "metadata": {
    "slideshow": {
     "slide_type": "fragment"
    }
   },
   "outputs": [
    {
     "data": {
      "text/html": [
       "<div>\n",
       "<style scoped>\n",
       "    .dataframe tbody tr th:only-of-type {\n",
       "        vertical-align: middle;\n",
       "    }\n",
       "\n",
       "    .dataframe tbody tr th {\n",
       "        vertical-align: top;\n",
       "    }\n",
       "\n",
       "    .dataframe thead th {\n",
       "        text-align: right;\n",
       "    }\n",
       "</style>\n",
       "<table border=\"1\" class=\"dataframe\">\n",
       "  <thead>\n",
       "    <tr style=\"text-align: right;\">\n",
       "      <th></th>\n",
       "      <th>user_id</th>\n",
       "      <th>movie_id</th>\n",
       "      <th>rating</th>\n",
       "      <th>timestamp</th>\n",
       "      <th>gender</th>\n",
       "      <th>age</th>\n",
       "      <th>occupation</th>\n",
       "      <th>zip</th>\n",
       "      <th>title</th>\n",
       "      <th>genres</th>\n",
       "    </tr>\n",
       "  </thead>\n",
       "  <tbody>\n",
       "    <tr>\n",
       "      <th>8641</th>\n",
       "      <td>3663</td>\n",
       "      <td>1287</td>\n",
       "      <td>4</td>\n",
       "      <td>966410744</td>\n",
       "      <td>F</td>\n",
       "      <td>35</td>\n",
       "      <td>9</td>\n",
       "      <td>17055</td>\n",
       "      <td>Ben-Hur (1959)</td>\n",
       "      <td>Action|Adventure|Drama</td>\n",
       "    </tr>\n",
       "    <tr>\n",
       "      <th>32102</th>\n",
       "      <td>3663</td>\n",
       "      <td>1721</td>\n",
       "      <td>5</td>\n",
       "      <td>966410583</td>\n",
       "      <td>F</td>\n",
       "      <td>35</td>\n",
       "      <td>9</td>\n",
       "      <td>17055</td>\n",
       "      <td>Titanic (1997)</td>\n",
       "      <td>Drama|Romance</td>\n",
       "    </tr>\n",
       "    <tr>\n",
       "      <th>48559</th>\n",
       "      <td>3663</td>\n",
       "      <td>260</td>\n",
       "      <td>3</td>\n",
       "      <td>966410744</td>\n",
       "      <td>F</td>\n",
       "      <td>35</td>\n",
       "      <td>9</td>\n",
       "      <td>17055</td>\n",
       "      <td>Star Wars: Episode IV - A New Hope (1977)</td>\n",
       "      <td>Action|Adventure|Fantasy|Sci-Fi</td>\n",
       "    </tr>\n",
       "    <tr>\n",
       "      <th>64046</th>\n",
       "      <td>3663</td>\n",
       "      <td>648</td>\n",
       "      <td>5</td>\n",
       "      <td>966411209</td>\n",
       "      <td>F</td>\n",
       "      <td>35</td>\n",
       "      <td>9</td>\n",
       "      <td>17055</td>\n",
       "      <td>Mission: Impossible (1996)</td>\n",
       "      <td>Action|Adventure|Mystery</td>\n",
       "    </tr>\n",
       "    <tr>\n",
       "      <th>69483</th>\n",
       "      <td>3663</td>\n",
       "      <td>2916</td>\n",
       "      <td>4</td>\n",
       "      <td>966410942</td>\n",
       "      <td>F</td>\n",
       "      <td>35</td>\n",
       "      <td>9</td>\n",
       "      <td>17055</td>\n",
       "      <td>Total Recall (1990)</td>\n",
       "      <td>Action|Adventure|Sci-Fi|Thriller</td>\n",
       "    </tr>\n",
       "    <tr>\n",
       "      <th>...</th>\n",
       "      <td>...</td>\n",
       "      <td>...</td>\n",
       "      <td>...</td>\n",
       "      <td>...</td>\n",
       "      <td>...</td>\n",
       "      <td>...</td>\n",
       "      <td>...</td>\n",
       "      <td>...</td>\n",
       "      <td>...</td>\n",
       "      <td>...</td>\n",
       "    </tr>\n",
       "    <tr>\n",
       "      <th>870595</th>\n",
       "      <td>3663</td>\n",
       "      <td>2468</td>\n",
       "      <td>3</td>\n",
       "      <td>966411433</td>\n",
       "      <td>F</td>\n",
       "      <td>35</td>\n",
       "      <td>9</td>\n",
       "      <td>17055</td>\n",
       "      <td>Jumpin' Jack Flash (1986)</td>\n",
       "      <td>Action|Comedy|Romance|Thriller</td>\n",
       "    </tr>\n",
       "    <tr>\n",
       "      <th>875803</th>\n",
       "      <td>3663</td>\n",
       "      <td>3404</td>\n",
       "      <td>1</td>\n",
       "      <td>966411003</td>\n",
       "      <td>F</td>\n",
       "      <td>35</td>\n",
       "      <td>9</td>\n",
       "      <td>17055</td>\n",
       "      <td>Titanic (1953)</td>\n",
       "      <td>Action|Drama</td>\n",
       "    </tr>\n",
       "    <tr>\n",
       "      <th>877812</th>\n",
       "      <td>3663</td>\n",
       "      <td>170</td>\n",
       "      <td>4</td>\n",
       "      <td>966411096</td>\n",
       "      <td>F</td>\n",
       "      <td>35</td>\n",
       "      <td>9</td>\n",
       "      <td>17055</td>\n",
       "      <td>Hackers (1995)</td>\n",
       "      <td>Action|Crime|Thriller</td>\n",
       "    </tr>\n",
       "    <tr>\n",
       "      <th>916857</th>\n",
       "      <td>3663</td>\n",
       "      <td>2457</td>\n",
       "      <td>5</td>\n",
       "      <td>966410898</td>\n",
       "      <td>F</td>\n",
       "      <td>35</td>\n",
       "      <td>9</td>\n",
       "      <td>17055</td>\n",
       "      <td>Running Scared (1986)</td>\n",
       "      <td>Action|Comedy</td>\n",
       "    </tr>\n",
       "    <tr>\n",
       "      <th>983399</th>\n",
       "      <td>3663</td>\n",
       "      <td>2307</td>\n",
       "      <td>3</td>\n",
       "      <td>966411278</td>\n",
       "      <td>F</td>\n",
       "      <td>35</td>\n",
       "      <td>9</td>\n",
       "      <td>17055</td>\n",
       "      <td>One Tough Cop (1998)</td>\n",
       "      <td>Action|Drama</td>\n",
       "    </tr>\n",
       "  </tbody>\n",
       "</table>\n",
       "<p>91 rows × 10 columns</p>\n",
       "</div>"
      ],
      "text/plain": [
       "        user_id  movie_id  rating  timestamp gender  age  occupation    zip  \\\n",
       "8641       3663      1287       4  966410744      F   35           9  17055   \n",
       "32102      3663      1721       5  966410583      F   35           9  17055   \n",
       "48559      3663       260       3  966410744      F   35           9  17055   \n",
       "64046      3663       648       5  966411209      F   35           9  17055   \n",
       "69483      3663      2916       4  966410942      F   35           9  17055   \n",
       "...         ...       ...     ...        ...    ...  ...         ...    ...   \n",
       "870595     3663      2468       3  966411433      F   35           9  17055   \n",
       "875803     3663      3404       1  966411003      F   35           9  17055   \n",
       "877812     3663       170       4  966411096      F   35           9  17055   \n",
       "916857     3663      2457       5  966410898      F   35           9  17055   \n",
       "983399     3663      2307       3  966411278      F   35           9  17055   \n",
       "\n",
       "                                            title  \\\n",
       "8641                               Ben-Hur (1959)   \n",
       "32102                              Titanic (1997)   \n",
       "48559   Star Wars: Episode IV - A New Hope (1977)   \n",
       "64046                  Mission: Impossible (1996)   \n",
       "69483                         Total Recall (1990)   \n",
       "...                                           ...   \n",
       "870595                  Jumpin' Jack Flash (1986)   \n",
       "875803                             Titanic (1953)   \n",
       "877812                             Hackers (1995)   \n",
       "916857                      Running Scared (1986)   \n",
       "983399                       One Tough Cop (1998)   \n",
       "\n",
       "                                  genres  \n",
       "8641              Action|Adventure|Drama  \n",
       "32102                      Drama|Romance  \n",
       "48559    Action|Adventure|Fantasy|Sci-Fi  \n",
       "64046           Action|Adventure|Mystery  \n",
       "69483   Action|Adventure|Sci-Fi|Thriller  \n",
       "...                                  ...  \n",
       "870595    Action|Comedy|Romance|Thriller  \n",
       "875803                      Action|Drama  \n",
       "877812             Action|Crime|Thriller  \n",
       "916857                     Action|Comedy  \n",
       "983399                      Action|Drama  \n",
       "\n",
       "[91 rows x 10 columns]"
      ]
     },
     "execution_count": 17,
     "metadata": {},
     "output_type": "execute_result"
    }
   ],
   "source": [
    "data[data[\"user_id\"] == 3663]"
   ]
  },
  {
   "cell_type": "markdown",
   "metadata": {
    "slideshow": {
     "slide_type": "slide"
    }
   },
   "source": [
    "* *Exercise*: Select all ratings made by women."
   ]
  },
  {
   "cell_type": "code",
   "execution_count": 18,
   "metadata": {
    "slideshow": {
     "slide_type": "fragment"
    }
   },
   "outputs": [
    {
     "data": {
      "text/html": [
       "<div>\n",
       "<style scoped>\n",
       "    .dataframe tbody tr th:only-of-type {\n",
       "        vertical-align: middle;\n",
       "    }\n",
       "\n",
       "    .dataframe tbody tr th {\n",
       "        vertical-align: top;\n",
       "    }\n",
       "\n",
       "    .dataframe thead th {\n",
       "        text-align: right;\n",
       "    }\n",
       "</style>\n",
       "<table border=\"1\" class=\"dataframe\">\n",
       "  <thead>\n",
       "    <tr style=\"text-align: right;\">\n",
       "      <th></th>\n",
       "      <th>user_id</th>\n",
       "      <th>movie_id</th>\n",
       "      <th>rating</th>\n",
       "      <th>timestamp</th>\n",
       "      <th>gender</th>\n",
       "      <th>age</th>\n",
       "      <th>occupation</th>\n",
       "      <th>zip</th>\n",
       "      <th>title</th>\n",
       "      <th>genres</th>\n",
       "    </tr>\n",
       "  </thead>\n",
       "  <tbody>\n",
       "    <tr>\n",
       "      <th>0</th>\n",
       "      <td>1</td>\n",
       "      <td>1193</td>\n",
       "      <td>5</td>\n",
       "      <td>978300760</td>\n",
       "      <td>F</td>\n",
       "      <td>1</td>\n",
       "      <td>10</td>\n",
       "      <td>48067</td>\n",
       "      <td>One Flew Over the Cuckoo's Nest (1975)</td>\n",
       "      <td>Drama</td>\n",
       "    </tr>\n",
       "    <tr>\n",
       "      <th>5</th>\n",
       "      <td>18</td>\n",
       "      <td>1193</td>\n",
       "      <td>4</td>\n",
       "      <td>978156168</td>\n",
       "      <td>F</td>\n",
       "      <td>18</td>\n",
       "      <td>3</td>\n",
       "      <td>95825</td>\n",
       "      <td>One Flew Over the Cuckoo's Nest (1975)</td>\n",
       "      <td>Drama</td>\n",
       "    </tr>\n",
       "    <tr>\n",
       "      <th>7</th>\n",
       "      <td>24</td>\n",
       "      <td>1193</td>\n",
       "      <td>5</td>\n",
       "      <td>978136709</td>\n",
       "      <td>F</td>\n",
       "      <td>25</td>\n",
       "      <td>7</td>\n",
       "      <td>10023</td>\n",
       "      <td>One Flew Over the Cuckoo's Nest (1975)</td>\n",
       "      <td>Drama</td>\n",
       "    </tr>\n",
       "    <tr>\n",
       "      <th>8</th>\n",
       "      <td>28</td>\n",
       "      <td>1193</td>\n",
       "      <td>3</td>\n",
       "      <td>978125194</td>\n",
       "      <td>F</td>\n",
       "      <td>25</td>\n",
       "      <td>1</td>\n",
       "      <td>14607</td>\n",
       "      <td>One Flew Over the Cuckoo's Nest (1975)</td>\n",
       "      <td>Drama</td>\n",
       "    </tr>\n",
       "    <tr>\n",
       "      <th>19</th>\n",
       "      <td>59</td>\n",
       "      <td>1193</td>\n",
       "      <td>4</td>\n",
       "      <td>977934292</td>\n",
       "      <td>F</td>\n",
       "      <td>50</td>\n",
       "      <td>1</td>\n",
       "      <td>55413</td>\n",
       "      <td>One Flew Over the Cuckoo's Nest (1975)</td>\n",
       "      <td>Drama</td>\n",
       "    </tr>\n",
       "    <tr>\n",
       "      <th>...</th>\n",
       "      <td>...</td>\n",
       "      <td>...</td>\n",
       "      <td>...</td>\n",
       "      <td>...</td>\n",
       "      <td>...</td>\n",
       "      <td>...</td>\n",
       "      <td>...</td>\n",
       "      <td>...</td>\n",
       "      <td>...</td>\n",
       "      <td>...</td>\n",
       "    </tr>\n",
       "    <tr>\n",
       "      <th>1000199</th>\n",
       "      <td>5334</td>\n",
       "      <td>3382</td>\n",
       "      <td>5</td>\n",
       "      <td>960796159</td>\n",
       "      <td>F</td>\n",
       "      <td>56</td>\n",
       "      <td>13</td>\n",
       "      <td>46140</td>\n",
       "      <td>Song of Freedom (1936)</td>\n",
       "      <td>Drama</td>\n",
       "    </tr>\n",
       "    <tr>\n",
       "      <th>1000200</th>\n",
       "      <td>5420</td>\n",
       "      <td>1843</td>\n",
       "      <td>3</td>\n",
       "      <td>960156505</td>\n",
       "      <td>F</td>\n",
       "      <td>1</td>\n",
       "      <td>19</td>\n",
       "      <td>14850</td>\n",
       "      <td>Slappy and the Stinkers (1998)</td>\n",
       "      <td>Children's|Comedy</td>\n",
       "    </tr>\n",
       "    <tr>\n",
       "      <th>1000201</th>\n",
       "      <td>5433</td>\n",
       "      <td>286</td>\n",
       "      <td>3</td>\n",
       "      <td>960240881</td>\n",
       "      <td>F</td>\n",
       "      <td>35</td>\n",
       "      <td>17</td>\n",
       "      <td>45014</td>\n",
       "      <td>Nemesis 2: Nebula (1995)</td>\n",
       "      <td>Action|Sci-Fi|Thriller</td>\n",
       "    </tr>\n",
       "    <tr>\n",
       "      <th>1000202</th>\n",
       "      <td>5494</td>\n",
       "      <td>3530</td>\n",
       "      <td>4</td>\n",
       "      <td>959816296</td>\n",
       "      <td>F</td>\n",
       "      <td>35</td>\n",
       "      <td>17</td>\n",
       "      <td>94306</td>\n",
       "      <td>Smoking/No Smoking (1993)</td>\n",
       "      <td>Comedy</td>\n",
       "    </tr>\n",
       "    <tr>\n",
       "      <th>1000207</th>\n",
       "      <td>5851</td>\n",
       "      <td>3607</td>\n",
       "      <td>5</td>\n",
       "      <td>957756608</td>\n",
       "      <td>F</td>\n",
       "      <td>18</td>\n",
       "      <td>20</td>\n",
       "      <td>55410</td>\n",
       "      <td>One Little Indian (1973)</td>\n",
       "      <td>Comedy|Drama|Western</td>\n",
       "    </tr>\n",
       "  </tbody>\n",
       "</table>\n",
       "<p>246440 rows × 10 columns</p>\n",
       "</div>"
      ],
      "text/plain": [
       "         user_id  movie_id  rating  timestamp gender  age  occupation    zip  \\\n",
       "0              1      1193       5  978300760      F    1          10  48067   \n",
       "5             18      1193       4  978156168      F   18           3  95825   \n",
       "7             24      1193       5  978136709      F   25           7  10023   \n",
       "8             28      1193       3  978125194      F   25           1  14607   \n",
       "19            59      1193       4  977934292      F   50           1  55413   \n",
       "...          ...       ...     ...        ...    ...  ...         ...    ...   \n",
       "1000199     5334      3382       5  960796159      F   56          13  46140   \n",
       "1000200     5420      1843       3  960156505      F    1          19  14850   \n",
       "1000201     5433       286       3  960240881      F   35          17  45014   \n",
       "1000202     5494      3530       4  959816296      F   35          17  94306   \n",
       "1000207     5851      3607       5  957756608      F   18          20  55410   \n",
       "\n",
       "                                          title                  genres  \n",
       "0        One Flew Over the Cuckoo's Nest (1975)                   Drama  \n",
       "5        One Flew Over the Cuckoo's Nest (1975)                   Drama  \n",
       "7        One Flew Over the Cuckoo's Nest (1975)                   Drama  \n",
       "8        One Flew Over the Cuckoo's Nest (1975)                   Drama  \n",
       "19       One Flew Over the Cuckoo's Nest (1975)                   Drama  \n",
       "...                                         ...                     ...  \n",
       "1000199                  Song of Freedom (1936)                   Drama  \n",
       "1000200          Slappy and the Stinkers (1998)       Children's|Comedy  \n",
       "1000201                Nemesis 2: Nebula (1995)  Action|Sci-Fi|Thriller  \n",
       "1000202               Smoking/No Smoking (1993)                  Comedy  \n",
       "1000207                One Little Indian (1973)    Comedy|Drama|Western  \n",
       "\n",
       "[246440 rows x 10 columns]"
      ]
     },
     "execution_count": 18,
     "metadata": {},
     "output_type": "execute_result"
    }
   ],
   "source": [
    "data[data[\"gender\"] == \"F\"]"
   ]
  },
  {
   "cell_type": "markdown",
   "metadata": {
    "slideshow": {
     "slide_type": "slide"
    }
   },
   "source": [
    "* *Exercise*: Select all *movies* that are of genres *Drama*.\n",
    "  * Hint: Try the `.str.contains()` method."
   ]
  },
  {
   "cell_type": "code",
   "execution_count": 19,
   "metadata": {
    "slideshow": {
     "slide_type": "fragment"
    }
   },
   "outputs": [
    {
     "data": {
      "text/html": [
       "<div>\n",
       "<style scoped>\n",
       "    .dataframe tbody tr th:only-of-type {\n",
       "        vertical-align: middle;\n",
       "    }\n",
       "\n",
       "    .dataframe tbody tr th {\n",
       "        vertical-align: top;\n",
       "    }\n",
       "\n",
       "    .dataframe thead th {\n",
       "        text-align: right;\n",
       "    }\n",
       "</style>\n",
       "<table border=\"1\" class=\"dataframe\">\n",
       "  <thead>\n",
       "    <tr style=\"text-align: right;\">\n",
       "      <th></th>\n",
       "      <th>movie_id</th>\n",
       "      <th>title</th>\n",
       "      <th>genres</th>\n",
       "    </tr>\n",
       "  </thead>\n",
       "  <tbody>\n",
       "    <tr>\n",
       "      <th>3</th>\n",
       "      <td>4</td>\n",
       "      <td>Waiting to Exhale (1995)</td>\n",
       "      <td>Comedy|Drama</td>\n",
       "    </tr>\n",
       "    <tr>\n",
       "      <th>10</th>\n",
       "      <td>11</td>\n",
       "      <td>American President, The (1995)</td>\n",
       "      <td>Comedy|Drama|Romance</td>\n",
       "    </tr>\n",
       "    <tr>\n",
       "      <th>13</th>\n",
       "      <td>14</td>\n",
       "      <td>Nixon (1995)</td>\n",
       "      <td>Drama</td>\n",
       "    </tr>\n",
       "    <tr>\n",
       "      <th>15</th>\n",
       "      <td>16</td>\n",
       "      <td>Casino (1995)</td>\n",
       "      <td>Drama|Thriller</td>\n",
       "    </tr>\n",
       "    <tr>\n",
       "      <th>16</th>\n",
       "      <td>17</td>\n",
       "      <td>Sense and Sensibility (1995)</td>\n",
       "      <td>Drama|Romance</td>\n",
       "    </tr>\n",
       "    <tr>\n",
       "      <th>20</th>\n",
       "      <td>21</td>\n",
       "      <td>Get Shorty (1995)</td>\n",
       "      <td>Action|Comedy|Drama</td>\n",
       "    </tr>\n",
       "    <tr>\n",
       "      <th>21</th>\n",
       "      <td>22</td>\n",
       "      <td>Copycat (1995)</td>\n",
       "      <td>Crime|Drama|Thriller</td>\n",
       "    </tr>\n",
       "    <tr>\n",
       "      <th>23</th>\n",
       "      <td>24</td>\n",
       "      <td>Powder (1995)</td>\n",
       "      <td>Drama|Sci-Fi</td>\n",
       "    </tr>\n",
       "    <tr>\n",
       "      <th>24</th>\n",
       "      <td>25</td>\n",
       "      <td>Leaving Las Vegas (1995)</td>\n",
       "      <td>Drama|Romance</td>\n",
       "    </tr>\n",
       "    <tr>\n",
       "      <th>25</th>\n",
       "      <td>26</td>\n",
       "      <td>Othello (1995)</td>\n",
       "      <td>Drama</td>\n",
       "    </tr>\n",
       "    <tr>\n",
       "      <th>26</th>\n",
       "      <td>27</td>\n",
       "      <td>Now and Then (1995)</td>\n",
       "      <td>Drama</td>\n",
       "    </tr>\n",
       "    <tr>\n",
       "      <th>29</th>\n",
       "      <td>30</td>\n",
       "      <td>Shanghai Triad (Yao a yao yao dao waipo qiao) ...</td>\n",
       "      <td>Drama</td>\n",
       "    </tr>\n",
       "    <tr>\n",
       "      <th>30</th>\n",
       "      <td>31</td>\n",
       "      <td>Dangerous Minds (1995)</td>\n",
       "      <td>Drama</td>\n",
       "    </tr>\n",
       "    <tr>\n",
       "      <th>31</th>\n",
       "      <td>32</td>\n",
       "      <td>Twelve Monkeys (1995)</td>\n",
       "      <td>Drama|Sci-Fi</td>\n",
       "    </tr>\n",
       "    <tr>\n",
       "      <th>33</th>\n",
       "      <td>34</td>\n",
       "      <td>Babe (1995)</td>\n",
       "      <td>Children's|Comedy|Drama</td>\n",
       "    </tr>\n",
       "    <tr>\n",
       "      <th>34</th>\n",
       "      <td>35</td>\n",
       "      <td>Carrington (1995)</td>\n",
       "      <td>Drama|Romance</td>\n",
       "    </tr>\n",
       "    <tr>\n",
       "      <th>35</th>\n",
       "      <td>36</td>\n",
       "      <td>Dead Man Walking (1995)</td>\n",
       "      <td>Drama</td>\n",
       "    </tr>\n",
       "    <tr>\n",
       "      <th>39</th>\n",
       "      <td>40</td>\n",
       "      <td>Cry, the Beloved Country (1995)</td>\n",
       "      <td>Drama</td>\n",
       "    </tr>\n",
       "    <tr>\n",
       "      <th>40</th>\n",
       "      <td>41</td>\n",
       "      <td>Richard III (1995)</td>\n",
       "      <td>Drama|War</td>\n",
       "    </tr>\n",
       "    <tr>\n",
       "      <th>41</th>\n",
       "      <td>42</td>\n",
       "      <td>Dead Presidents (1995)</td>\n",
       "      <td>Action|Crime|Drama</td>\n",
       "    </tr>\n",
       "  </tbody>\n",
       "</table>\n",
       "</div>"
      ],
      "text/plain": [
       "    movie_id                                              title  \\\n",
       "3          4                           Waiting to Exhale (1995)   \n",
       "10        11                     American President, The (1995)   \n",
       "13        14                                       Nixon (1995)   \n",
       "15        16                                      Casino (1995)   \n",
       "16        17                       Sense and Sensibility (1995)   \n",
       "20        21                                  Get Shorty (1995)   \n",
       "21        22                                     Copycat (1995)   \n",
       "23        24                                      Powder (1995)   \n",
       "24        25                           Leaving Las Vegas (1995)   \n",
       "25        26                                     Othello (1995)   \n",
       "26        27                                Now and Then (1995)   \n",
       "29        30  Shanghai Triad (Yao a yao yao dao waipo qiao) ...   \n",
       "30        31                             Dangerous Minds (1995)   \n",
       "31        32                              Twelve Monkeys (1995)   \n",
       "33        34                                        Babe (1995)   \n",
       "34        35                                  Carrington (1995)   \n",
       "35        36                            Dead Man Walking (1995)   \n",
       "39        40                    Cry, the Beloved Country (1995)   \n",
       "40        41                                 Richard III (1995)   \n",
       "41        42                             Dead Presidents (1995)   \n",
       "\n",
       "                     genres  \n",
       "3              Comedy|Drama  \n",
       "10     Comedy|Drama|Romance  \n",
       "13                    Drama  \n",
       "15           Drama|Thriller  \n",
       "16            Drama|Romance  \n",
       "20      Action|Comedy|Drama  \n",
       "21     Crime|Drama|Thriller  \n",
       "23             Drama|Sci-Fi  \n",
       "24            Drama|Romance  \n",
       "25                    Drama  \n",
       "26                    Drama  \n",
       "29                    Drama  \n",
       "30                    Drama  \n",
       "31             Drama|Sci-Fi  \n",
       "33  Children's|Comedy|Drama  \n",
       "34            Drama|Romance  \n",
       "35                    Drama  \n",
       "39                    Drama  \n",
       "40                Drama|War  \n",
       "41       Action|Crime|Drama  "
      ]
     },
     "execution_count": 19,
     "metadata": {},
     "output_type": "execute_result"
    }
   ],
   "source": [
    "movies[movies['genres'].str.contains('Drama')][:20]"
   ]
  },
  {
   "cell_type": "markdown",
   "metadata": {
    "slideshow": {
     "slide_type": "slide"
    }
   },
   "source": [
    "* *Exercise*: Select all *movies* that are of *only* of genres *Drama*.\n",
    "  * Hint: Use boolean selection."
   ]
  },
  {
   "cell_type": "code",
   "execution_count": 20,
   "metadata": {
    "scrolled": true,
    "slideshow": {
     "slide_type": "fragment"
    }
   },
   "outputs": [
    {
     "data": {
      "text/html": [
       "<div>\n",
       "<style scoped>\n",
       "    .dataframe tbody tr th:only-of-type {\n",
       "        vertical-align: middle;\n",
       "    }\n",
       "\n",
       "    .dataframe tbody tr th {\n",
       "        vertical-align: top;\n",
       "    }\n",
       "\n",
       "    .dataframe thead th {\n",
       "        text-align: right;\n",
       "    }\n",
       "</style>\n",
       "<table border=\"1\" class=\"dataframe\">\n",
       "  <thead>\n",
       "    <tr style=\"text-align: right;\">\n",
       "      <th></th>\n",
       "      <th>movie_id</th>\n",
       "      <th>title</th>\n",
       "      <th>genres</th>\n",
       "    </tr>\n",
       "  </thead>\n",
       "  <tbody>\n",
       "    <tr>\n",
       "      <th>13</th>\n",
       "      <td>14</td>\n",
       "      <td>Nixon (1995)</td>\n",
       "      <td>Drama</td>\n",
       "    </tr>\n",
       "    <tr>\n",
       "      <th>25</th>\n",
       "      <td>26</td>\n",
       "      <td>Othello (1995)</td>\n",
       "      <td>Drama</td>\n",
       "    </tr>\n",
       "    <tr>\n",
       "      <th>26</th>\n",
       "      <td>27</td>\n",
       "      <td>Now and Then (1995)</td>\n",
       "      <td>Drama</td>\n",
       "    </tr>\n",
       "    <tr>\n",
       "      <th>29</th>\n",
       "      <td>30</td>\n",
       "      <td>Shanghai Triad (Yao a yao yao dao waipo qiao) ...</td>\n",
       "      <td>Drama</td>\n",
       "    </tr>\n",
       "    <tr>\n",
       "      <th>30</th>\n",
       "      <td>31</td>\n",
       "      <td>Dangerous Minds (1995)</td>\n",
       "      <td>Drama</td>\n",
       "    </tr>\n",
       "    <tr>\n",
       "      <th>...</th>\n",
       "      <td>...</td>\n",
       "      <td>...</td>\n",
       "      <td>...</td>\n",
       "    </tr>\n",
       "    <tr>\n",
       "      <th>3845</th>\n",
       "      <td>3915</td>\n",
       "      <td>Girlfight (2000)</td>\n",
       "      <td>Drama</td>\n",
       "    </tr>\n",
       "    <tr>\n",
       "      <th>3846</th>\n",
       "      <td>3916</td>\n",
       "      <td>Remember the Titans (2000)</td>\n",
       "      <td>Drama</td>\n",
       "    </tr>\n",
       "    <tr>\n",
       "      <th>3879</th>\n",
       "      <td>3949</td>\n",
       "      <td>Requiem for a Dream (2000)</td>\n",
       "      <td>Drama</td>\n",
       "    </tr>\n",
       "    <tr>\n",
       "      <th>3880</th>\n",
       "      <td>3950</td>\n",
       "      <td>Tigerland (2000)</td>\n",
       "      <td>Drama</td>\n",
       "    </tr>\n",
       "    <tr>\n",
       "      <th>3881</th>\n",
       "      <td>3951</td>\n",
       "      <td>Two Family House (2000)</td>\n",
       "      <td>Drama</td>\n",
       "    </tr>\n",
       "  </tbody>\n",
       "</table>\n",
       "<p>843 rows × 3 columns</p>\n",
       "</div>"
      ],
      "text/plain": [
       "      movie_id                                              title genres\n",
       "13          14                                       Nixon (1995)  Drama\n",
       "25          26                                     Othello (1995)  Drama\n",
       "26          27                                Now and Then (1995)  Drama\n",
       "29          30  Shanghai Triad (Yao a yao yao dao waipo qiao) ...  Drama\n",
       "30          31                             Dangerous Minds (1995)  Drama\n",
       "...        ...                                                ...    ...\n",
       "3845      3915                                   Girlfight (2000)  Drama\n",
       "3846      3916                         Remember the Titans (2000)  Drama\n",
       "3879      3949                         Requiem for a Dream (2000)  Drama\n",
       "3880      3950                                   Tigerland (2000)  Drama\n",
       "3881      3951                            Two Family House (2000)  Drama\n",
       "\n",
       "[843 rows x 3 columns]"
      ]
     },
     "execution_count": 20,
     "metadata": {},
     "output_type": "execute_result"
    }
   ],
   "source": [
    "movies[movies['genres'] == \"Drama\"]"
   ]
  },
  {
   "cell_type": "markdown",
   "metadata": {
    "slideshow": {
     "slide_type": "slide"
    }
   },
   "source": [
    "## Grouping data\n",
    "\n",
    "Sometimes it is useful to *group* data together by some common element. For example, say we want to group all of the ratings by title and count how many ratings there are for each title."
   ]
  },
  {
   "cell_type": "code",
   "execution_count": 21,
   "metadata": {
    "slideshow": {
     "slide_type": "fragment"
    }
   },
   "outputs": [],
   "source": [
    "num_ratings_by_title = data.groupby('title').size()"
   ]
  },
  {
   "cell_type": "code",
   "execution_count": 22,
   "metadata": {
    "slideshow": {
     "slide_type": "fragment"
    }
   },
   "outputs": [
    {
     "data": {
      "text/plain": [
       "title\n",
       "American Beauty (1999)                                   3428\n",
       "Star Wars: Episode IV - A New Hope (1977)                2991\n",
       "Star Wars: Episode V - The Empire Strikes Back (1980)    2990\n",
       "Star Wars: Episode VI - Return of the Jedi (1983)        2883\n",
       "Jurassic Park (1993)                                     2672\n",
       "Saving Private Ryan (1998)                               2653\n",
       "Terminator 2: Judgment Day (1991)                        2649\n",
       "Matrix, The (1999)                                       2590\n",
       "Back to the Future (1985)                                2583\n",
       "Silence of the Lambs, The (1991)                         2578\n",
       "dtype: int64"
      ]
     },
     "execution_count": 22,
     "metadata": {},
     "output_type": "execute_result"
    }
   ],
   "source": [
    "num_ratings_by_title.sort_values(ascending=False)[:10]"
   ]
  },
  {
   "cell_type": "markdown",
   "metadata": {
    "slideshow": {
     "slide_type": "slide"
    }
   },
   "source": [
    "*Exercise*: Show the user ids of the top 100 users who rated the most movies. Assign the result to `users_with_time`.\n",
    "\n",
    "Tips: Use `groupby`, `sort_values`, `size`, slicing on `data`. Try writing it in one line!"
   ]
  },
  {
   "cell_type": "code",
   "execution_count": 23,
   "metadata": {
    "slideshow": {
     "slide_type": "fragment"
    }
   },
   "outputs": [
    {
     "name": "stdout",
     "output_type": "stream",
     "text": [
      "user_id\n",
      "4169    2314\n",
      "1680    1850\n",
      "4277    1743\n",
      "1941    1595\n",
      "1181    1521\n",
      "dtype: int64\n"
     ]
    }
   ],
   "source": [
    "users_ids_with_time = data.groupby('user_id').size().sort_values(ascending=False)[:100]\n",
    "print(users_ids_with_time[:5])"
   ]
  },
  {
   "cell_type": "markdown",
   "metadata": {
    "slideshow": {
     "slide_type": "slide"
    }
   },
   "source": [
    "Let's find out about these people who can watch so many movies! What jobs do they have?"
   ]
  },
  {
   "cell_type": "markdown",
   "metadata": {
    "slideshow": {
     "slide_type": "slide"
    }
   },
   "source": [
    "First of all, the original table only contains numbers which *map* to occupations. It would be nice to have the occupations rather than the numbers."
   ]
  },
  {
   "cell_type": "code",
   "execution_count": 24,
   "metadata": {
    "slideshow": {
     "slide_type": "slide"
    }
   },
   "outputs": [],
   "source": [
    "number_to_occupation = {0:  \"other or not specified\",\n",
    "1: \"academic/educator\",\n",
    "2: \"artist\",\n",
    "3: \"clerical/admin\",\n",
    "4: \"college/grad student\",\n",
    "5: \"customer service\",\n",
    "6: \"doctor/health care\",\n",
    "7: \"executive/managerial\",\n",
    "8: \"farmer\",\n",
    "9: \"homemaker\",\n",
    "10: \"K-12 student\",\n",
    "11: \"lawyer\",\n",
    "12: \"programmer\",\n",
    "13: \"retired\",\n",
    "14: \"sales/marketing\",\n",
    "15: \"scientist\",\n",
    "16: \"self-employed\",\n",
    "17: \"technician/engineer\",\n",
    "18: \"tradesman/craftsman\",\n",
    "19: \"unemployed\",\n",
    "20: \"writer\"}"
   ]
  },
  {
   "cell_type": "code",
   "execution_count": 25,
   "metadata": {
    "slideshow": {
     "slide_type": "slide"
    }
   },
   "outputs": [],
   "source": [
    "users['occupation'] = users['occupation'].map(number_to_occupation)"
   ]
  },
  {
   "cell_type": "code",
   "execution_count": 26,
   "metadata": {
    "slideshow": {
     "slide_type": "fragment"
    }
   },
   "outputs": [
    {
     "data": {
      "text/html": [
       "<div>\n",
       "<style scoped>\n",
       "    .dataframe tbody tr th:only-of-type {\n",
       "        vertical-align: middle;\n",
       "    }\n",
       "\n",
       "    .dataframe tbody tr th {\n",
       "        vertical-align: top;\n",
       "    }\n",
       "\n",
       "    .dataframe thead th {\n",
       "        text-align: right;\n",
       "    }\n",
       "</style>\n",
       "<table border=\"1\" class=\"dataframe\">\n",
       "  <thead>\n",
       "    <tr style=\"text-align: right;\">\n",
       "      <th></th>\n",
       "      <th>user_id</th>\n",
       "      <th>gender</th>\n",
       "      <th>age</th>\n",
       "      <th>occupation</th>\n",
       "      <th>zip</th>\n",
       "    </tr>\n",
       "  </thead>\n",
       "  <tbody>\n",
       "    <tr>\n",
       "      <th>0</th>\n",
       "      <td>1</td>\n",
       "      <td>F</td>\n",
       "      <td>1</td>\n",
       "      <td>K-12 student</td>\n",
       "      <td>48067</td>\n",
       "    </tr>\n",
       "    <tr>\n",
       "      <th>1</th>\n",
       "      <td>2</td>\n",
       "      <td>M</td>\n",
       "      <td>56</td>\n",
       "      <td>self-employed</td>\n",
       "      <td>70072</td>\n",
       "    </tr>\n",
       "    <tr>\n",
       "      <th>2</th>\n",
       "      <td>3</td>\n",
       "      <td>M</td>\n",
       "      <td>25</td>\n",
       "      <td>scientist</td>\n",
       "      <td>55117</td>\n",
       "    </tr>\n",
       "    <tr>\n",
       "      <th>3</th>\n",
       "      <td>4</td>\n",
       "      <td>M</td>\n",
       "      <td>45</td>\n",
       "      <td>executive/managerial</td>\n",
       "      <td>02460</td>\n",
       "    </tr>\n",
       "    <tr>\n",
       "      <th>4</th>\n",
       "      <td>5</td>\n",
       "      <td>M</td>\n",
       "      <td>25</td>\n",
       "      <td>writer</td>\n",
       "      <td>55455</td>\n",
       "    </tr>\n",
       "  </tbody>\n",
       "</table>\n",
       "</div>"
      ],
      "text/plain": [
       "   user_id gender  age            occupation    zip\n",
       "0        1      F    1          K-12 student  48067\n",
       "1        2      M   56         self-employed  70072\n",
       "2        3      M   25             scientist  55117\n",
       "3        4      M   45  executive/managerial  02460\n",
       "4        5      M   25                writer  55455"
      ]
     },
     "execution_count": 26,
     "metadata": {},
     "output_type": "execute_result"
    }
   ],
   "source": [
    "users.head()"
   ]
  },
  {
   "cell_type": "code",
   "execution_count": 27,
   "metadata": {
    "slideshow": {
     "slide_type": "slide"
    }
   },
   "outputs": [
    {
     "data": {
      "text/plain": [
       "<matplotlib.axes._subplots.AxesSubplot at 0x7f0b4514e550>"
      ]
     },
     "execution_count": 27,
     "metadata": {},
     "output_type": "execute_result"
    },
    {
     "data": {
      "image/png": "[encoded data removed]",
      "text/plain": [
       "<Figure size 432x288 with 1 Axes>"
      ]
     },
     "metadata": {
      "needs_background": "light"
     },
     "output_type": "display_data"
    }
   ],
   "source": [
    "users_with_time = users[users[\"user_id\"].isin(users_ids_with_time.index)]\n",
    "(users_with_time['occupation'].value_counts()).plot(kind='bar', title=\"Occupations of top 100 users with most ratings\")"
   ]
  },
  {
   "cell_type": "markdown",
   "metadata": {
    "slideshow": {
     "slide_type": "slide"
    }
   },
   "source": [
    "* *Exercise*: Perform a similar analysis, but look at whether there are more male or female users in the top 100. Genera\n",
    "  * Hint: Start with `users_with_time`. Use `value_counts`. Use the `.plot()` method."
   ]
  },
  {
   "cell_type": "code",
   "execution_count": 28,
   "metadata": {
    "slideshow": {
     "slide_type": "fragment"
    }
   },
   "outputs": [
    {
     "data": {
      "text/html": [
       "<div>\n",
       "<style scoped>\n",
       "    .dataframe tbody tr th:only-of-type {\n",
       "        vertical-align: middle;\n",
       "    }\n",
       "\n",
       "    .dataframe tbody tr th {\n",
       "        vertical-align: top;\n",
       "    }\n",
       "\n",
       "    .dataframe thead th {\n",
       "        text-align: right;\n",
       "    }\n",
       "</style>\n",
       "<table border=\"1\" class=\"dataframe\">\n",
       "  <thead>\n",
       "    <tr style=\"text-align: right;\">\n",
       "      <th></th>\n",
       "      <th>user_id</th>\n",
       "      <th>gender</th>\n",
       "      <th>age</th>\n",
       "      <th>occupation</th>\n",
       "      <th>zip</th>\n",
       "    </tr>\n",
       "  </thead>\n",
       "  <tbody>\n",
       "    <tr>\n",
       "      <th>351</th>\n",
       "      <td>352</td>\n",
       "      <td>M</td>\n",
       "      <td>18</td>\n",
       "      <td>college/grad student</td>\n",
       "      <td>60115</td>\n",
       "    </tr>\n",
       "    <tr>\n",
       "      <th>423</th>\n",
       "      <td>424</td>\n",
       "      <td>M</td>\n",
       "      <td>25</td>\n",
       "      <td>technician/engineer</td>\n",
       "      <td>55112</td>\n",
       "    </tr>\n",
       "    <tr>\n",
       "      <th>481</th>\n",
       "      <td>482</td>\n",
       "      <td>M</td>\n",
       "      <td>25</td>\n",
       "      <td>sales/marketing</td>\n",
       "      <td>55305</td>\n",
       "    </tr>\n",
       "    <tr>\n",
       "      <th>523</th>\n",
       "      <td>524</td>\n",
       "      <td>M</td>\n",
       "      <td>18</td>\n",
       "      <td>other or not specified</td>\n",
       "      <td>91320</td>\n",
       "    </tr>\n",
       "    <tr>\n",
       "      <th>530</th>\n",
       "      <td>531</td>\n",
       "      <td>F</td>\n",
       "      <td>18</td>\n",
       "      <td>sales/marketing</td>\n",
       "      <td>22206</td>\n",
       "    </tr>\n",
       "  </tbody>\n",
       "</table>\n",
       "</div>"
      ],
      "text/plain": [
       "     user_id gender  age              occupation    zip\n",
       "351      352      M   18    college/grad student  60115\n",
       "423      424      M   25     technician/engineer  55112\n",
       "481      482      M   25         sales/marketing  55305\n",
       "523      524      M   18  other or not specified  91320\n",
       "530      531      F   18         sales/marketing  22206"
      ]
     },
     "execution_count": 28,
     "metadata": {},
     "output_type": "execute_result"
    }
   ],
   "source": [
    "users_with_time.head()"
   ]
  },
  {
   "cell_type": "code",
   "execution_count": 29,
   "metadata": {
    "slideshow": {
     "slide_type": "fragment"
    }
   },
   "outputs": [
    {
     "name": "stdout",
     "output_type": "stream",
     "text": [
      "M    80\n",
      "F    20\n",
      "Name: gender, dtype: int64\n"
     ]
    }
   ],
   "source": [
    "count_gender_of_users_with_time = users_with_time[\"gender\"].value_counts()\n",
    "print(count_gender_of_users_with_time)"
   ]
  },
  {
   "cell_type": "code",
   "execution_count": 30,
   "metadata": {
    "slideshow": {
     "slide_type": "slide"
    }
   },
   "outputs": [
    {
     "data": {
      "text/plain": [
       "<matplotlib.axes._subplots.AxesSubplot at 0x7f0b443ddb20>"
      ]
     },
     "execution_count": 30,
     "metadata": {},
     "output_type": "execute_result"
    },
    {
     "data": {
      "image/png": "[encoded data removed]",
      "text/plain": [
       "<Figure size 432x288 with 1 Axes>"
      ]
     },
     "metadata": {
      "needs_background": "light"
     },
     "output_type": "display_data"
    }
   ],
   "source": [
    "count_gender_of_users_with_time.plot(kind='bar')"
   ]
  },
  {
   "cell_type": "markdown",
   "metadata": {
    "slideshow": {
     "slide_type": "slide"
    }
   },
   "source": [
    "## Pivot tables\n",
    "\n",
    "'Pivot tables' are a concept popularised by Microsoft Excel. \n",
    "They are a tool for:\n",
    "* first *aggregating* data by one or more *keys*, \n",
    "* and then arranging the data with some of the *keys* along the rows, and some along the columns."
   ]
  },
  {
   "cell_type": "markdown",
   "metadata": {
    "slideshow": {
     "slide_type": "slide"
    }
   },
   "source": [
    "Question: What is the mean movie rating for each film grouped by gender?"
   ]
  },
  {
   "cell_type": "code",
   "execution_count": 31,
   "metadata": {
    "slideshow": {
     "slide_type": "fragment"
    }
   },
   "outputs": [
    {
     "data": {
      "text/html": [
       "<div>\n",
       "<style scoped>\n",
       "    .dataframe tbody tr th:only-of-type {\n",
       "        vertical-align: middle;\n",
       "    }\n",
       "\n",
       "    .dataframe tbody tr th {\n",
       "        vertical-align: top;\n",
       "    }\n",
       "\n",
       "    .dataframe thead th {\n",
       "        text-align: right;\n",
       "    }\n",
       "</style>\n",
       "<table border=\"1\" class=\"dataframe\">\n",
       "  <thead>\n",
       "    <tr style=\"text-align: right;\">\n",
       "      <th></th>\n",
       "      <th>user_id</th>\n",
       "      <th>movie_id</th>\n",
       "      <th>rating</th>\n",
       "      <th>timestamp</th>\n",
       "      <th>gender</th>\n",
       "      <th>age</th>\n",
       "      <th>occupation</th>\n",
       "      <th>zip</th>\n",
       "      <th>title</th>\n",
       "      <th>genres</th>\n",
       "    </tr>\n",
       "  </thead>\n",
       "  <tbody>\n",
       "    <tr>\n",
       "      <th>0</th>\n",
       "      <td>1</td>\n",
       "      <td>1193</td>\n",
       "      <td>5</td>\n",
       "      <td>978300760</td>\n",
       "      <td>F</td>\n",
       "      <td>1</td>\n",
       "      <td>10</td>\n",
       "      <td>48067</td>\n",
       "      <td>One Flew Over the Cuckoo's Nest (1975)</td>\n",
       "      <td>Drama</td>\n",
       "    </tr>\n",
       "    <tr>\n",
       "      <th>1</th>\n",
       "      <td>2</td>\n",
       "      <td>1193</td>\n",
       "      <td>5</td>\n",
       "      <td>978298413</td>\n",
       "      <td>M</td>\n",
       "      <td>56</td>\n",
       "      <td>16</td>\n",
       "      <td>70072</td>\n",
       "      <td>One Flew Over the Cuckoo's Nest (1975)</td>\n",
       "      <td>Drama</td>\n",
       "    </tr>\n",
       "    <tr>\n",
       "      <th>2</th>\n",
       "      <td>12</td>\n",
       "      <td>1193</td>\n",
       "      <td>4</td>\n",
       "      <td>978220179</td>\n",
       "      <td>M</td>\n",
       "      <td>25</td>\n",
       "      <td>12</td>\n",
       "      <td>32793</td>\n",
       "      <td>One Flew Over the Cuckoo's Nest (1975)</td>\n",
       "      <td>Drama</td>\n",
       "    </tr>\n",
       "    <tr>\n",
       "      <th>3</th>\n",
       "      <td>15</td>\n",
       "      <td>1193</td>\n",
       "      <td>4</td>\n",
       "      <td>978199279</td>\n",
       "      <td>M</td>\n",
       "      <td>25</td>\n",
       "      <td>7</td>\n",
       "      <td>22903</td>\n",
       "      <td>One Flew Over the Cuckoo's Nest (1975)</td>\n",
       "      <td>Drama</td>\n",
       "    </tr>\n",
       "    <tr>\n",
       "      <th>4</th>\n",
       "      <td>17</td>\n",
       "      <td>1193</td>\n",
       "      <td>5</td>\n",
       "      <td>978158471</td>\n",
       "      <td>M</td>\n",
       "      <td>50</td>\n",
       "      <td>1</td>\n",
       "      <td>95350</td>\n",
       "      <td>One Flew Over the Cuckoo's Nest (1975)</td>\n",
       "      <td>Drama</td>\n",
       "    </tr>\n",
       "  </tbody>\n",
       "</table>\n",
       "</div>"
      ],
      "text/plain": [
       "   user_id  movie_id  rating  timestamp gender  age  occupation    zip  \\\n",
       "0        1      1193       5  978300760      F    1          10  48067   \n",
       "1        2      1193       5  978298413      M   56          16  70072   \n",
       "2       12      1193       4  978220179      M   25          12  32793   \n",
       "3       15      1193       4  978199279      M   25           7  22903   \n",
       "4       17      1193       5  978158471      M   50           1  95350   \n",
       "\n",
       "                                    title genres  \n",
       "0  One Flew Over the Cuckoo's Nest (1975)  Drama  \n",
       "1  One Flew Over the Cuckoo's Nest (1975)  Drama  \n",
       "2  One Flew Over the Cuckoo's Nest (1975)  Drama  \n",
       "3  One Flew Over the Cuckoo's Nest (1975)  Drama  \n",
       "4  One Flew Over the Cuckoo's Nest (1975)  Drama  "
      ]
     },
     "execution_count": 31,
     "metadata": {},
     "output_type": "execute_result"
    }
   ],
   "source": [
    "data.head()"
   ]
  },
  {
   "cell_type": "code",
   "execution_count": 32,
   "metadata": {
    "slideshow": {
     "slide_type": "fragment"
    }
   },
   "outputs": [
    {
     "data": {
      "text/html": [
       "<div>\n",
       "<style scoped>\n",
       "    .dataframe tbody tr th:only-of-type {\n",
       "        vertical-align: middle;\n",
       "    }\n",
       "\n",
       "    .dataframe tbody tr th {\n",
       "        vertical-align: top;\n",
       "    }\n",
       "\n",
       "    .dataframe thead th {\n",
       "        text-align: right;\n",
       "    }\n",
       "</style>\n",
       "<table border=\"1\" class=\"dataframe\">\n",
       "  <thead>\n",
       "    <tr style=\"text-align: right;\">\n",
       "      <th>gender</th>\n",
       "      <th>F</th>\n",
       "      <th>M</th>\n",
       "    </tr>\n",
       "    <tr>\n",
       "      <th>title</th>\n",
       "      <th></th>\n",
       "      <th></th>\n",
       "    </tr>\n",
       "  </thead>\n",
       "  <tbody>\n",
       "    <tr>\n",
       "      <th>$1,000,000 Duck (1971)</th>\n",
       "      <td>3.375000</td>\n",
       "      <td>2.761905</td>\n",
       "    </tr>\n",
       "    <tr>\n",
       "      <th>'Night Mother (1986)</th>\n",
       "      <td>3.388889</td>\n",
       "      <td>3.352941</td>\n",
       "    </tr>\n",
       "    <tr>\n",
       "      <th>'Til There Was You (1997)</th>\n",
       "      <td>2.675676</td>\n",
       "      <td>2.733333</td>\n",
       "    </tr>\n",
       "    <tr>\n",
       "      <th>'burbs, The (1989)</th>\n",
       "      <td>2.793478</td>\n",
       "      <td>2.962085</td>\n",
       "    </tr>\n",
       "    <tr>\n",
       "      <th>...And Justice for All (1979)</th>\n",
       "      <td>3.828571</td>\n",
       "      <td>3.689024</td>\n",
       "    </tr>\n",
       "  </tbody>\n",
       "</table>\n",
       "</div>"
      ],
      "text/plain": [
       "gender                                F         M\n",
       "title                                            \n",
       "$1,000,000 Duck (1971)         3.375000  2.761905\n",
       "'Night Mother (1986)           3.388889  3.352941\n",
       "'Til There Was You (1997)      2.675676  2.733333\n",
       "'burbs, The (1989)             2.793478  2.962085\n",
       "...And Justice for All (1979)  3.828571  3.689024"
      ]
     },
     "execution_count": 32,
     "metadata": {},
     "output_type": "execute_result"
    }
   ],
   "source": [
    "mean_rating = data.pivot_table('rating', index='title', columns='gender', aggfunc=np.mean)\n",
    "mean_rating.head()"
   ]
  },
  {
   "cell_type": "markdown",
   "metadata": {
    "slideshow": {
     "slide_type": "slide"
    }
   },
   "source": [
    "* Exercise: Using the `.pivot_table()` method, also compute the standard deviation of the aggregated data.\n",
    "  * Hint: Look at the documentation for the `aggfunc` argument to `pd.pivot_table` using the `?` command.\n",
    "  * Hint: Find functions in `numpy` (`np`) that compute the mean and standard deviation.\n",
    "  "
   ]
  },
  {
   "cell_type": "code",
   "execution_count": 33,
   "metadata": {
    "slideshow": {
     "slide_type": "fragment"
    }
   },
   "outputs": [],
   "source": [
    "pd.pivot_table?"
   ]
  },
  {
   "cell_type": "code",
   "execution_count": 34,
   "metadata": {
    "slideshow": {
     "slide_type": "fragment"
    }
   },
   "outputs": [
    {
     "data": {
      "text/html": [
       "<div>\n",
       "<style scoped>\n",
       "    .dataframe tbody tr th:only-of-type {\n",
       "        vertical-align: middle;\n",
       "    }\n",
       "\n",
       "    .dataframe tbody tr th {\n",
       "        vertical-align: top;\n",
       "    }\n",
       "\n",
       "    .dataframe thead tr th {\n",
       "        text-align: left;\n",
       "    }\n",
       "</style>\n",
       "<table border=\"1\" class=\"dataframe\">\n",
       "  <thead>\n",
       "    <tr>\n",
       "      <th></th>\n",
       "      <th colspan=\"2\" halign=\"left\">mean</th>\n",
       "      <th colspan=\"2\" halign=\"left\">std</th>\n",
       "    </tr>\n",
       "    <tr>\n",
       "      <th>gender</th>\n",
       "      <th>F</th>\n",
       "      <th>M</th>\n",
       "      <th>F</th>\n",
       "      <th>M</th>\n",
       "    </tr>\n",
       "  </thead>\n",
       "  <tbody>\n",
       "    <tr>\n",
       "      <th>$1,000,000 Duck (1971)</th>\n",
       "      <td>3.375000</td>\n",
       "      <td>2.761905</td>\n",
       "      <td>0.957427</td>\n",
       "      <td>1.135991</td>\n",
       "    </tr>\n",
       "    <tr>\n",
       "      <th>'Night Mother (1986)</th>\n",
       "      <td>3.388889</td>\n",
       "      <td>3.352941</td>\n",
       "      <td>1.021981</td>\n",
       "      <td>1.228015</td>\n",
       "    </tr>\n",
       "    <tr>\n",
       "      <th>'Til There Was You (1997)</th>\n",
       "      <td>2.675676</td>\n",
       "      <td>2.733333</td>\n",
       "      <td>0.973369</td>\n",
       "      <td>1.162919</td>\n",
       "    </tr>\n",
       "    <tr>\n",
       "      <th>'burbs, The (1989)</th>\n",
       "      <td>2.793478</td>\n",
       "      <td>2.962085</td>\n",
       "      <td>1.124532</td>\n",
       "      <td>1.099127</td>\n",
       "    </tr>\n",
       "    <tr>\n",
       "      <th>...And Justice for All (1979)</th>\n",
       "      <td>3.828571</td>\n",
       "      <td>3.689024</td>\n",
       "      <td>0.954424</td>\n",
       "      <td>0.862086</td>\n",
       "    </tr>\n",
       "  </tbody>\n",
       "</table>\n",
       "</div>"
      ],
      "text/plain": [
       "                                   mean                 std          \n",
       "gender                                F         M         F         M\n",
       "$1,000,000 Duck (1971)         3.375000  2.761905  0.957427  1.135991\n",
       "'Night Mother (1986)           3.388889  3.352941  1.021981  1.228015\n",
       "'Til There Was You (1997)      2.675676  2.733333  0.973369  1.162919\n",
       "'burbs, The (1989)             2.793478  2.962085  1.124532  1.099127\n",
       "...And Justice for All (1979)  3.828571  3.689024  0.954424  0.862086"
      ]
     },
     "execution_count": 34,
     "metadata": {},
     "output_type": "execute_result"
    }
   ],
   "source": [
    "mean_rating = data.pivot_table('rating', index='title', \n",
    "                               columns='gender', \n",
    "                               aggfunc=[np.mean, np.std])\n",
    "mean_rating.head()"
   ]
  },
  {
   "cell_type": "markdown",
   "metadata": {
    "slideshow": {
     "slide_type": "slide"
    }
   },
   "source": [
    "## Analysis - Getting answers to questions\n",
    "\n",
    "Question:\n",
    "\n",
    "1. Which films were most divisive between male and female viewers?"
   ]
  },
  {
   "cell_type": "code",
   "execution_count": 35,
   "metadata": {
    "slideshow": {
     "slide_type": "fragment"
    }
   },
   "outputs": [
    {
     "data": {
      "text/html": [
       "<div>\n",
       "<style scoped>\n",
       "    .dataframe tbody tr th:only-of-type {\n",
       "        vertical-align: middle;\n",
       "    }\n",
       "\n",
       "    .dataframe tbody tr th {\n",
       "        vertical-align: top;\n",
       "    }\n",
       "\n",
       "    .dataframe thead tr th {\n",
       "        text-align: left;\n",
       "    }\n",
       "</style>\n",
       "<table border=\"1\" class=\"dataframe\">\n",
       "  <thead>\n",
       "    <tr>\n",
       "      <th></th>\n",
       "      <th colspan=\"2\" halign=\"left\">mean</th>\n",
       "      <th colspan=\"2\" halign=\"left\">std</th>\n",
       "    </tr>\n",
       "    <tr>\n",
       "      <th>gender</th>\n",
       "      <th>F</th>\n",
       "      <th>M</th>\n",
       "      <th>F</th>\n",
       "      <th>M</th>\n",
       "    </tr>\n",
       "  </thead>\n",
       "  <tbody>\n",
       "    <tr>\n",
       "      <th>$1,000,000 Duck (1971)</th>\n",
       "      <td>3.375000</td>\n",
       "      <td>2.761905</td>\n",
       "      <td>0.957427</td>\n",
       "      <td>1.135991</td>\n",
       "    </tr>\n",
       "    <tr>\n",
       "      <th>'Night Mother (1986)</th>\n",
       "      <td>3.388889</td>\n",
       "      <td>3.352941</td>\n",
       "      <td>1.021981</td>\n",
       "      <td>1.228015</td>\n",
       "    </tr>\n",
       "    <tr>\n",
       "      <th>'Til There Was You (1997)</th>\n",
       "      <td>2.675676</td>\n",
       "      <td>2.733333</td>\n",
       "      <td>0.973369</td>\n",
       "      <td>1.162919</td>\n",
       "    </tr>\n",
       "    <tr>\n",
       "      <th>'burbs, The (1989)</th>\n",
       "      <td>2.793478</td>\n",
       "      <td>2.962085</td>\n",
       "      <td>1.124532</td>\n",
       "      <td>1.099127</td>\n",
       "    </tr>\n",
       "    <tr>\n",
       "      <th>...And Justice for All (1979)</th>\n",
       "      <td>3.828571</td>\n",
       "      <td>3.689024</td>\n",
       "      <td>0.954424</td>\n",
       "      <td>0.862086</td>\n",
       "    </tr>\n",
       "  </tbody>\n",
       "</table>\n",
       "</div>"
      ],
      "text/plain": [
       "                                   mean                 std          \n",
       "gender                                F         M         F         M\n",
       "$1,000,000 Duck (1971)         3.375000  2.761905  0.957427  1.135991\n",
       "'Night Mother (1986)           3.388889  3.352941  1.021981  1.228015\n",
       "'Til There Was You (1997)      2.675676  2.733333  0.973369  1.162919\n",
       "'burbs, The (1989)             2.793478  2.962085  1.124532  1.099127\n",
       "...And Justice for All (1979)  3.828571  3.689024  0.954424  0.862086"
      ]
     },
     "execution_count": 35,
     "metadata": {},
     "output_type": "execute_result"
    }
   ],
   "source": [
    "mean_rating.head()"
   ]
  },
  {
   "cell_type": "code",
   "execution_count": 36,
   "metadata": {},
   "outputs": [],
   "source": [
    "mean_rating[\"mean_diff\"] = mean_rating[\"mean\"][\"M\"] - mean_rating[\"mean\"][\"F\"]"
   ]
  },
  {
   "cell_type": "code",
   "execution_count": 37,
   "metadata": {},
   "outputs": [],
   "source": [
    "sorted_by_diff = mean_rating.sort_values(by=\"mean_diff\")"
   ]
  },
  {
   "cell_type": "code",
   "execution_count": 38,
   "metadata": {},
   "outputs": [
    {
     "data": {
      "text/html": [
       "<div>\n",
       "<style scoped>\n",
       "    .dataframe tbody tr th:only-of-type {\n",
       "        vertical-align: middle;\n",
       "    }\n",
       "\n",
       "    .dataframe tbody tr th {\n",
       "        vertical-align: top;\n",
       "    }\n",
       "\n",
       "    .dataframe thead tr th {\n",
       "        text-align: left;\n",
       "    }\n",
       "</style>\n",
       "<table border=\"1\" class=\"dataframe\">\n",
       "  <thead>\n",
       "    <tr>\n",
       "      <th></th>\n",
       "      <th colspan=\"2\" halign=\"left\">mean</th>\n",
       "      <th colspan=\"2\" halign=\"left\">std</th>\n",
       "      <th>mean_diff</th>\n",
       "    </tr>\n",
       "    <tr>\n",
       "      <th>gender</th>\n",
       "      <th>F</th>\n",
       "      <th>M</th>\n",
       "      <th>F</th>\n",
       "      <th>M</th>\n",
       "      <th></th>\n",
       "    </tr>\n",
       "  </thead>\n",
       "  <tbody>\n",
       "    <tr>\n",
       "      <th>James Dean Story, The (1957)</th>\n",
       "      <td>4.000000</td>\n",
       "      <td>1.000000</td>\n",
       "      <td>0.000000</td>\n",
       "      <td>NaN</td>\n",
       "      <td>-3.000000</td>\n",
       "    </tr>\n",
       "    <tr>\n",
       "      <th>Country Life (1994)</th>\n",
       "      <td>5.000000</td>\n",
       "      <td>2.000000</td>\n",
       "      <td>NaN</td>\n",
       "      <td>0.000000</td>\n",
       "      <td>-3.000000</td>\n",
       "    </tr>\n",
       "    <tr>\n",
       "      <th>Spiders, The (Die Spinnen, 1. Teil: Der Goldene See) (1919)</th>\n",
       "      <td>4.000000</td>\n",
       "      <td>1.000000</td>\n",
       "      <td>1.414214</td>\n",
       "      <td>0.000000</td>\n",
       "      <td>-3.000000</td>\n",
       "    </tr>\n",
       "    <tr>\n",
       "      <th>Babyfever (1994)</th>\n",
       "      <td>3.666667</td>\n",
       "      <td>1.000000</td>\n",
       "      <td>0.577350</td>\n",
       "      <td>NaN</td>\n",
       "      <td>-2.666667</td>\n",
       "    </tr>\n",
       "    <tr>\n",
       "      <th>Woman of Paris, A (1923)</th>\n",
       "      <td>5.000000</td>\n",
       "      <td>2.428571</td>\n",
       "      <td>NaN</td>\n",
       "      <td>1.272418</td>\n",
       "      <td>-2.571429</td>\n",
       "    </tr>\n",
       "    <tr>\n",
       "      <th>Cobra (1925)</th>\n",
       "      <td>4.000000</td>\n",
       "      <td>1.500000</td>\n",
       "      <td>NaN</td>\n",
       "      <td>1.000000</td>\n",
       "      <td>-2.500000</td>\n",
       "    </tr>\n",
       "    <tr>\n",
       "      <th>Other Side of Sunday, The (S�ndagsengler) (1996)</th>\n",
       "      <td>5.000000</td>\n",
       "      <td>2.928571</td>\n",
       "      <td>0.000000</td>\n",
       "      <td>1.542440</td>\n",
       "      <td>-2.071429</td>\n",
       "    </tr>\n",
       "    <tr>\n",
       "      <th>To Have, or Not (1995)</th>\n",
       "      <td>4.000000</td>\n",
       "      <td>2.000000</td>\n",
       "      <td>NaN</td>\n",
       "      <td>NaN</td>\n",
       "      <td>-2.000000</td>\n",
       "    </tr>\n",
       "    <tr>\n",
       "      <th>For the Moment (1994)</th>\n",
       "      <td>5.000000</td>\n",
       "      <td>3.000000</td>\n",
       "      <td>NaN</td>\n",
       "      <td>0.816497</td>\n",
       "      <td>-2.000000</td>\n",
       "    </tr>\n",
       "    <tr>\n",
       "      <th>Phat Beach (1996)</th>\n",
       "      <td>3.000000</td>\n",
       "      <td>1.000000</td>\n",
       "      <td>0.000000</td>\n",
       "      <td>0.000000</td>\n",
       "      <td>-2.000000</td>\n",
       "    </tr>\n",
       "    <tr>\n",
       "      <th>Crude Oasis, The (1995)</th>\n",
       "      <td>3.000000</td>\n",
       "      <td>1.000000</td>\n",
       "      <td>NaN</td>\n",
       "      <td>NaN</td>\n",
       "      <td>-2.000000</td>\n",
       "    </tr>\n",
       "    <tr>\n",
       "      <th>Coming Apart (1969)</th>\n",
       "      <td>4.000000</td>\n",
       "      <td>2.000000</td>\n",
       "      <td>NaN</td>\n",
       "      <td>NaN</td>\n",
       "      <td>-2.000000</td>\n",
       "    </tr>\n",
       "    <tr>\n",
       "      <th>Separation, The (La S�paration) (1994)</th>\n",
       "      <td>4.000000</td>\n",
       "      <td>2.000000</td>\n",
       "      <td>NaN</td>\n",
       "      <td>1.414214</td>\n",
       "      <td>-2.000000</td>\n",
       "    </tr>\n",
       "    <tr>\n",
       "      <th>Mad Dog Time (1996)</th>\n",
       "      <td>4.000000</td>\n",
       "      <td>2.000000</td>\n",
       "      <td>NaN</td>\n",
       "      <td>1.279204</td>\n",
       "      <td>-2.000000</td>\n",
       "    </tr>\n",
       "    <tr>\n",
       "      <th>Theodore Rex (1995)</th>\n",
       "      <td>3.000000</td>\n",
       "      <td>1.000000</td>\n",
       "      <td>NaN</td>\n",
       "      <td>0.000000</td>\n",
       "      <td>-2.000000</td>\n",
       "    </tr>\n",
       "  </tbody>\n",
       "</table>\n",
       "</div>"
      ],
      "text/plain": [
       "                                                        mean            \\\n",
       "gender                                                     F         M   \n",
       "James Dean Story, The (1957)                        4.000000  1.000000   \n",
       "Country Life (1994)                                 5.000000  2.000000   \n",
       "Spiders, The (Die Spinnen, 1. Teil: Der Goldene...  4.000000  1.000000   \n",
       "Babyfever (1994)                                    3.666667  1.000000   \n",
       "Woman of Paris, A (1923)                            5.000000  2.428571   \n",
       "Cobra (1925)                                        4.000000  1.500000   \n",
       "Other Side of Sunday, The (S�ndagsengler) (1996)    5.000000  2.928571   \n",
       "To Have, or Not (1995)                              4.000000  2.000000   \n",
       "For the Moment (1994)                               5.000000  3.000000   \n",
       "Phat Beach (1996)                                   3.000000  1.000000   \n",
       "Crude Oasis, The (1995)                             3.000000  1.000000   \n",
       "Coming Apart (1969)                                 4.000000  2.000000   \n",
       "Separation, The (La S�paration) (1994)              4.000000  2.000000   \n",
       "Mad Dog Time (1996)                                 4.000000  2.000000   \n",
       "Theodore Rex (1995)                                 3.000000  1.000000   \n",
       "\n",
       "                                                         std            \\\n",
       "gender                                                     F         M   \n",
       "James Dean Story, The (1957)                        0.000000       NaN   \n",
       "Country Life (1994)                                      NaN  0.000000   \n",
       "Spiders, The (Die Spinnen, 1. Teil: Der Goldene...  1.414214  0.000000   \n",
       "Babyfever (1994)                                    0.577350       NaN   \n",
       "Woman of Paris, A (1923)                                 NaN  1.272418   \n",
       "Cobra (1925)                                             NaN  1.000000   \n",
       "Other Side of Sunday, The (S�ndagsengler) (1996)    0.000000  1.542440   \n",
       "To Have, or Not (1995)                                   NaN       NaN   \n",
       "For the Moment (1994)                                    NaN  0.816497   \n",
       "Phat Beach (1996)                                   0.000000  0.000000   \n",
       "Crude Oasis, The (1995)                                  NaN       NaN   \n",
       "Coming Apart (1969)                                      NaN       NaN   \n",
       "Separation, The (La S�paration) (1994)                   NaN  1.414214   \n",
       "Mad Dog Time (1996)                                      NaN  1.279204   \n",
       "Theodore Rex (1995)                                      NaN  0.000000   \n",
       "\n",
       "                                                   mean_diff  \n",
       "gender                                                        \n",
       "James Dean Story, The (1957)                       -3.000000  \n",
       "Country Life (1994)                                -3.000000  \n",
       "Spiders, The (Die Spinnen, 1. Teil: Der Goldene... -3.000000  \n",
       "Babyfever (1994)                                   -2.666667  \n",
       "Woman of Paris, A (1923)                           -2.571429  \n",
       "Cobra (1925)                                       -2.500000  \n",
       "Other Side of Sunday, The (S�ndagsengler) (1996)   -2.071429  \n",
       "To Have, or Not (1995)                             -2.000000  \n",
       "For the Moment (1994)                              -2.000000  \n",
       "Phat Beach (1996)                                  -2.000000  \n",
       "Crude Oasis, The (1995)                            -2.000000  \n",
       "Coming Apart (1969)                                -2.000000  \n",
       "Separation, The (La S�paration) (1994)             -2.000000  \n",
       "Mad Dog Time (1996)                                -2.000000  \n",
       "Theodore Rex (1995)                                -2.000000  "
      ]
     },
     "execution_count": 38,
     "metadata": {},
     "output_type": "execute_result"
    }
   ],
   "source": [
    "sorted_by_diff[:15]"
   ]
  },
  {
   "cell_type": "markdown",
   "metadata": {
    "slideshow": {
     "slide_type": "slide"
    }
   },
   "source": [
    "*Exercise:* Take a look at the data in the above table. What is the problem with what we have done?"
   ]
  },
  {
   "cell_type": "markdown",
   "metadata": {
    "slideshow": {
     "slide_type": "fragment"
    }
   },
   "source": [
    "Answer: Some movies only have one or two ratings! They are not statistically significant. Let's remove movies with only a few ratings."
   ]
  },
  {
   "cell_type": "code",
   "execution_count": 39,
   "metadata": {
    "slideshow": {
     "slide_type": "slide"
    }
   },
   "outputs": [
    {
     "name": "stdout",
     "output_type": "stream",
     "text": [
      "Index([''burbs, The (1989)', '10 Things I Hate About You (1999)',\n",
      "       '101 Dalmatians (1961)', '101 Dalmatians (1996)', '12 Angry Men (1957)',\n",
      "       '13th Warrior, The (1999)', '2 Days in the Valley (1996)',\n",
      "       '20,000 Leagues Under the Sea (1954)', '2001: A Space Odyssey (1968)',\n",
      "       '2010 (1984)',\n",
      "       ...\n",
      "       'X-Men (2000)', 'Year of Living Dangerously (1982)',\n",
      "       'Yellow Submarine (1968)', 'You've Got Mail (1998)',\n",
      "       'Young Frankenstein (1974)', 'Young Guns (1988)',\n",
      "       'Young Guns II (1990)', 'Young Sherlock Holmes (1985)',\n",
      "       'Zero Effect (1998)', 'eXistenZ (1999)'],\n",
      "      dtype='object', name='title', length=1216)\n"
     ]
    }
   ],
   "source": [
    "ratings_by_title = data.groupby('title').size()\n",
    "ratings_by_title\n",
    "active_titles = ratings_by_title.index[ratings_by_title >= 250]\n",
    "print(active_titles)"
   ]
  },
  {
   "cell_type": "code",
   "execution_count": 40,
   "metadata": {},
   "outputs": [],
   "source": [
    "mean_rating = mean_rating.loc[active_titles]"
   ]
  },
  {
   "cell_type": "code",
   "execution_count": 41,
   "metadata": {},
   "outputs": [
    {
     "data": {
      "text/html": [
       "<div>\n",
       "<style scoped>\n",
       "    .dataframe tbody tr th:only-of-type {\n",
       "        vertical-align: middle;\n",
       "    }\n",
       "\n",
       "    .dataframe tbody tr th {\n",
       "        vertical-align: top;\n",
       "    }\n",
       "\n",
       "    .dataframe thead tr th {\n",
       "        text-align: left;\n",
       "    }\n",
       "\n",
       "    .dataframe thead tr:last-of-type th {\n",
       "        text-align: right;\n",
       "    }\n",
       "</style>\n",
       "<table border=\"1\" class=\"dataframe\">\n",
       "  <thead>\n",
       "    <tr>\n",
       "      <th></th>\n",
       "      <th colspan=\"2\" halign=\"left\">mean</th>\n",
       "      <th colspan=\"2\" halign=\"left\">std</th>\n",
       "      <th>mean_diff</th>\n",
       "    </tr>\n",
       "    <tr>\n",
       "      <th>gender</th>\n",
       "      <th>F</th>\n",
       "      <th>M</th>\n",
       "      <th>F</th>\n",
       "      <th>M</th>\n",
       "      <th></th>\n",
       "    </tr>\n",
       "    <tr>\n",
       "      <th>title</th>\n",
       "      <th></th>\n",
       "      <th></th>\n",
       "      <th></th>\n",
       "      <th></th>\n",
       "      <th></th>\n",
       "    </tr>\n",
       "  </thead>\n",
       "  <tbody>\n",
       "    <tr>\n",
       "      <th>'burbs, The (1989)</th>\n",
       "      <td>2.793478</td>\n",
       "      <td>2.962085</td>\n",
       "      <td>1.124532</td>\n",
       "      <td>1.099127</td>\n",
       "      <td>0.168607</td>\n",
       "    </tr>\n",
       "    <tr>\n",
       "      <th>10 Things I Hate About You (1999)</th>\n",
       "      <td>3.646552</td>\n",
       "      <td>3.311966</td>\n",
       "      <td>0.986965</td>\n",
       "      <td>0.973364</td>\n",
       "      <td>-0.334586</td>\n",
       "    </tr>\n",
       "    <tr>\n",
       "      <th>101 Dalmatians (1961)</th>\n",
       "      <td>3.791444</td>\n",
       "      <td>3.500000</td>\n",
       "      <td>0.882525</td>\n",
       "      <td>1.015137</td>\n",
       "      <td>-0.291444</td>\n",
       "    </tr>\n",
       "    <tr>\n",
       "      <th>101 Dalmatians (1996)</th>\n",
       "      <td>3.240000</td>\n",
       "      <td>2.911215</td>\n",
       "      <td>1.072412</td>\n",
       "      <td>1.099110</td>\n",
       "      <td>-0.328785</td>\n",
       "    </tr>\n",
       "    <tr>\n",
       "      <th>12 Angry Men (1957)</th>\n",
       "      <td>4.184397</td>\n",
       "      <td>4.328421</td>\n",
       "      <td>0.883199</td>\n",
       "      <td>0.788587</td>\n",
       "      <td>0.144024</td>\n",
       "    </tr>\n",
       "    <tr>\n",
       "      <th>...</th>\n",
       "      <td>...</td>\n",
       "      <td>...</td>\n",
       "      <td>...</td>\n",
       "      <td>...</td>\n",
       "      <td>...</td>\n",
       "    </tr>\n",
       "    <tr>\n",
       "      <th>Young Guns (1988)</th>\n",
       "      <td>3.371795</td>\n",
       "      <td>3.425620</td>\n",
       "      <td>0.884337</td>\n",
       "      <td>1.037917</td>\n",
       "      <td>0.053825</td>\n",
       "    </tr>\n",
       "    <tr>\n",
       "      <th>Young Guns II (1990)</th>\n",
       "      <td>2.934783</td>\n",
       "      <td>2.904025</td>\n",
       "      <td>1.062537</td>\n",
       "      <td>1.074875</td>\n",
       "      <td>-0.030758</td>\n",
       "    </tr>\n",
       "    <tr>\n",
       "      <th>Young Sherlock Holmes (1985)</th>\n",
       "      <td>3.514706</td>\n",
       "      <td>3.363344</td>\n",
       "      <td>0.889284</td>\n",
       "      <td>0.890709</td>\n",
       "      <td>-0.151362</td>\n",
       "    </tr>\n",
       "    <tr>\n",
       "      <th>Zero Effect (1998)</th>\n",
       "      <td>3.864407</td>\n",
       "      <td>3.723140</td>\n",
       "      <td>1.166451</td>\n",
       "      <td>1.011245</td>\n",
       "      <td>-0.141266</td>\n",
       "    </tr>\n",
       "    <tr>\n",
       "      <th>eXistenZ (1999)</th>\n",
       "      <td>3.098592</td>\n",
       "      <td>3.289086</td>\n",
       "      <td>1.185085</td>\n",
       "      <td>1.176281</td>\n",
       "      <td>0.190494</td>\n",
       "    </tr>\n",
       "  </tbody>\n",
       "</table>\n",
       "<p>1216 rows × 5 columns</p>\n",
       "</div>"
      ],
      "text/plain": [
       "                                       mean                 std            \\\n",
       "gender                                    F         M         F         M   \n",
       "title                                                                       \n",
       "'burbs, The (1989)                 2.793478  2.962085  1.124532  1.099127   \n",
       "10 Things I Hate About You (1999)  3.646552  3.311966  0.986965  0.973364   \n",
       "101 Dalmatians (1961)              3.791444  3.500000  0.882525  1.015137   \n",
       "101 Dalmatians (1996)              3.240000  2.911215  1.072412  1.099110   \n",
       "12 Angry Men (1957)                4.184397  4.328421  0.883199  0.788587   \n",
       "...                                     ...       ...       ...       ...   \n",
       "Young Guns (1988)                  3.371795  3.425620  0.884337  1.037917   \n",
       "Young Guns II (1990)               2.934783  2.904025  1.062537  1.074875   \n",
       "Young Sherlock Holmes (1985)       3.514706  3.363344  0.889284  0.890709   \n",
       "Zero Effect (1998)                 3.864407  3.723140  1.166451  1.011245   \n",
       "eXistenZ (1999)                    3.098592  3.289086  1.185085  1.176281   \n",
       "\n",
       "                                  mean_diff  \n",
       "gender                                       \n",
       "title                                        \n",
       "'burbs, The (1989)                 0.168607  \n",
       "10 Things I Hate About You (1999) -0.334586  \n",
       "101 Dalmatians (1961)             -0.291444  \n",
       "101 Dalmatians (1996)             -0.328785  \n",
       "12 Angry Men (1957)                0.144024  \n",
       "...                                     ...  \n",
       "Young Guns (1988)                  0.053825  \n",
       "Young Guns II (1990)              -0.030758  \n",
       "Young Sherlock Holmes (1985)      -0.151362  \n",
       "Zero Effect (1998)                -0.141266  \n",
       "eXistenZ (1999)                    0.190494  \n",
       "\n",
       "[1216 rows x 5 columns]"
      ]
     },
     "execution_count": 41,
     "metadata": {},
     "output_type": "execute_result"
    }
   ],
   "source": [
    "mean_rating"
   ]
  },
  {
   "cell_type": "code",
   "execution_count": 42,
   "metadata": {},
   "outputs": [
    {
     "data": {
      "text/html": [
       "<div>\n",
       "<style scoped>\n",
       "    .dataframe tbody tr th:only-of-type {\n",
       "        vertical-align: middle;\n",
       "    }\n",
       "\n",
       "    .dataframe tbody tr th {\n",
       "        vertical-align: top;\n",
       "    }\n",
       "\n",
       "    .dataframe thead tr th {\n",
       "        text-align: left;\n",
       "    }\n",
       "\n",
       "    .dataframe thead tr:last-of-type th {\n",
       "        text-align: right;\n",
       "    }\n",
       "</style>\n",
       "<table border=\"1\" class=\"dataframe\">\n",
       "  <thead>\n",
       "    <tr>\n",
       "      <th></th>\n",
       "      <th colspan=\"2\" halign=\"left\">mean</th>\n",
       "      <th colspan=\"2\" halign=\"left\">std</th>\n",
       "      <th>mean_diff</th>\n",
       "    </tr>\n",
       "    <tr>\n",
       "      <th>gender</th>\n",
       "      <th>F</th>\n",
       "      <th>M</th>\n",
       "      <th>F</th>\n",
       "      <th>M</th>\n",
       "      <th></th>\n",
       "    </tr>\n",
       "    <tr>\n",
       "      <th>title</th>\n",
       "      <th></th>\n",
       "      <th></th>\n",
       "      <th></th>\n",
       "      <th></th>\n",
       "      <th></th>\n",
       "    </tr>\n",
       "  </thead>\n",
       "  <tbody>\n",
       "    <tr>\n",
       "      <th>Dirty Dancing (1987)</th>\n",
       "      <td>3.790378</td>\n",
       "      <td>2.959596</td>\n",
       "      <td>1.105181</td>\n",
       "      <td>1.087738</td>\n",
       "      <td>-0.830782</td>\n",
       "    </tr>\n",
       "    <tr>\n",
       "      <th>Jumpin' Jack Flash (1986)</th>\n",
       "      <td>3.254717</td>\n",
       "      <td>2.578358</td>\n",
       "      <td>1.078459</td>\n",
       "      <td>1.134007</td>\n",
       "      <td>-0.676359</td>\n",
       "    </tr>\n",
       "    <tr>\n",
       "      <th>Grease (1978)</th>\n",
       "      <td>3.975265</td>\n",
       "      <td>3.367041</td>\n",
       "      <td>1.022490</td>\n",
       "      <td>1.102666</td>\n",
       "      <td>-0.608224</td>\n",
       "    </tr>\n",
       "    <tr>\n",
       "      <th>Little Women (1994)</th>\n",
       "      <td>3.870588</td>\n",
       "      <td>3.321739</td>\n",
       "      <td>0.887630</td>\n",
       "      <td>0.903675</td>\n",
       "      <td>-0.548849</td>\n",
       "    </tr>\n",
       "    <tr>\n",
       "      <th>Steel Magnolias (1989)</th>\n",
       "      <td>3.901734</td>\n",
       "      <td>3.365957</td>\n",
       "      <td>0.906467</td>\n",
       "      <td>1.106561</td>\n",
       "      <td>-0.535777</td>\n",
       "    </tr>\n",
       "    <tr>\n",
       "      <th>...</th>\n",
       "      <td>...</td>\n",
       "      <td>...</td>\n",
       "      <td>...</td>\n",
       "      <td>...</td>\n",
       "      <td>...</td>\n",
       "    </tr>\n",
       "    <tr>\n",
       "      <th>Cable Guy, The (1996)</th>\n",
       "      <td>2.250000</td>\n",
       "      <td>2.863787</td>\n",
       "      <td>1.051390</td>\n",
       "      <td>1.100629</td>\n",
       "      <td>0.613787</td>\n",
       "    </tr>\n",
       "    <tr>\n",
       "      <th>Longest Day, The (1962)</th>\n",
       "      <td>3.411765</td>\n",
       "      <td>4.031447</td>\n",
       "      <td>0.957194</td>\n",
       "      <td>0.847497</td>\n",
       "      <td>0.619682</td>\n",
       "    </tr>\n",
       "    <tr>\n",
       "      <th>Dumb &amp; Dumber (1994)</th>\n",
       "      <td>2.697987</td>\n",
       "      <td>3.336595</td>\n",
       "      <td>1.354196</td>\n",
       "      <td>1.277333</td>\n",
       "      <td>0.638608</td>\n",
       "    </tr>\n",
       "    <tr>\n",
       "      <th>Kentucky Fried Movie, The (1977)</th>\n",
       "      <td>2.878788</td>\n",
       "      <td>3.555147</td>\n",
       "      <td>1.023400</td>\n",
       "      <td>1.007669</td>\n",
       "      <td>0.676359</td>\n",
       "    </tr>\n",
       "    <tr>\n",
       "      <th>Good, The Bad and The Ugly, The (1966)</th>\n",
       "      <td>3.494949</td>\n",
       "      <td>4.221300</td>\n",
       "      <td>1.146189</td>\n",
       "      <td>0.814168</td>\n",
       "      <td>0.726351</td>\n",
       "    </tr>\n",
       "  </tbody>\n",
       "</table>\n",
       "<p>1216 rows × 5 columns</p>\n",
       "</div>"
      ],
      "text/plain": [
       "                                            mean                 std  \\\n",
       "gender                                         F         M         F   \n",
       "title                                                                  \n",
       "Dirty Dancing (1987)                    3.790378  2.959596  1.105181   \n",
       "Jumpin' Jack Flash (1986)               3.254717  2.578358  1.078459   \n",
       "Grease (1978)                           3.975265  3.367041  1.022490   \n",
       "Little Women (1994)                     3.870588  3.321739  0.887630   \n",
       "Steel Magnolias (1989)                  3.901734  3.365957  0.906467   \n",
       "...                                          ...       ...       ...   \n",
       "Cable Guy, The (1996)                   2.250000  2.863787  1.051390   \n",
       "Longest Day, The (1962)                 3.411765  4.031447  0.957194   \n",
       "Dumb & Dumber (1994)                    2.697987  3.336595  1.354196   \n",
       "Kentucky Fried Movie, The (1977)        2.878788  3.555147  1.023400   \n",
       "Good, The Bad and The Ugly, The (1966)  3.494949  4.221300  1.146189   \n",
       "\n",
       "                                                 mean_diff  \n",
       "gender                                         M            \n",
       "title                                                       \n",
       "Dirty Dancing (1987)                    1.087738 -0.830782  \n",
       "Jumpin' Jack Flash (1986)               1.134007 -0.676359  \n",
       "Grease (1978)                           1.102666 -0.608224  \n",
       "Little Women (1994)                     0.903675 -0.548849  \n",
       "Steel Magnolias (1989)                  1.106561 -0.535777  \n",
       "...                                          ...       ...  \n",
       "Cable Guy, The (1996)                   1.100629  0.613787  \n",
       "Longest Day, The (1962)                 0.847497  0.619682  \n",
       "Dumb & Dumber (1994)                    1.277333  0.638608  \n",
       "Kentucky Fried Movie, The (1977)        1.007669  0.676359  \n",
       "Good, The Bad and The Ugly, The (1966)  0.814168  0.726351  \n",
       "\n",
       "[1216 rows x 5 columns]"
      ]
     },
     "execution_count": 42,
     "metadata": {},
     "output_type": "execute_result"
    }
   ],
   "source": [
    "sorted_by_mean_diff = mean_rating.sort_values(by=\"mean_diff\")\n",
    "sorted_by_mean_diff"
   ]
  },
  {
   "cell_type": "markdown",
   "metadata": {
    "slideshow": {
     "slide_type": "slide"
    }
   },
   "source": [
    "*Exercise*: Which 20 films had the widest difference of opinion?\n",
    "  * a) amongst males.\n",
    "  * b) amongst females.\n",
    "  * c) amongst people.\n",
    " \n",
    "Tips: Start with `mean_rating`. Select column using `[\"std\"]`. Use `.sort_values`. Reverse using `[start:stop:slice]`."
   ]
  },
  {
   "cell_type": "code",
   "execution_count": 43,
   "metadata": {},
   "outputs": [
    {
     "data": {
      "text/html": [
       "<div>\n",
       "<style scoped>\n",
       "    .dataframe tbody tr th:only-of-type {\n",
       "        vertical-align: middle;\n",
       "    }\n",
       "\n",
       "    .dataframe tbody tr th {\n",
       "        vertical-align: top;\n",
       "    }\n",
       "\n",
       "    .dataframe thead th {\n",
       "        text-align: right;\n",
       "    }\n",
       "</style>\n",
       "<table border=\"1\" class=\"dataframe\">\n",
       "  <thead>\n",
       "    <tr style=\"text-align: right;\">\n",
       "      <th>gender</th>\n",
       "      <th>F</th>\n",
       "      <th>M</th>\n",
       "    </tr>\n",
       "    <tr>\n",
       "      <th>title</th>\n",
       "      <th></th>\n",
       "      <th></th>\n",
       "    </tr>\n",
       "  </thead>\n",
       "  <tbody>\n",
       "    <tr>\n",
       "      <th>Blair Witch Project, The (1999)</th>\n",
       "      <td>1.313929</td>\n",
       "      <td>1.317775</td>\n",
       "    </tr>\n",
       "    <tr>\n",
       "      <th>Natural Born Killers (1994)</th>\n",
       "      <td>1.355926</td>\n",
       "      <td>1.298487</td>\n",
       "    </tr>\n",
       "    <tr>\n",
       "      <th>Dumb &amp; Dumber (1994)</th>\n",
       "      <td>1.354196</td>\n",
       "      <td>1.277333</td>\n",
       "    </tr>\n",
       "    <tr>\n",
       "      <th>Tank Girl (1995)</th>\n",
       "      <td>1.300054</td>\n",
       "      <td>1.264366</td>\n",
       "    </tr>\n",
       "    <tr>\n",
       "      <th>Serial Mom (1994)</th>\n",
       "      <td>1.125951</td>\n",
       "      <td>1.257872</td>\n",
       "    </tr>\n",
       "    <tr>\n",
       "      <th>...</th>\n",
       "      <td>...</td>\n",
       "      <td>...</td>\n",
       "    </tr>\n",
       "    <tr>\n",
       "      <th>Raiders of the Lost Ark (1981)</th>\n",
       "      <td>0.792796</td>\n",
       "      <td>0.699111</td>\n",
       "    </tr>\n",
       "    <tr>\n",
       "      <th>Rear Window (1954)</th>\n",
       "      <td>0.671284</td>\n",
       "      <td>0.696009</td>\n",
       "    </tr>\n",
       "    <tr>\n",
       "      <th>Shawshank Redemption, The (1994)</th>\n",
       "      <td>0.719194</td>\n",
       "      <td>0.693091</td>\n",
       "    </tr>\n",
       "    <tr>\n",
       "      <th>Close Shave, A (1995)</th>\n",
       "      <td>0.584934</td>\n",
       "      <td>0.690455</td>\n",
       "    </tr>\n",
       "    <tr>\n",
       "      <th>Great Escape, The (1963)</th>\n",
       "      <td>0.802156</td>\n",
       "      <td>0.669139</td>\n",
       "    </tr>\n",
       "  </tbody>\n",
       "</table>\n",
       "<p>1216 rows × 2 columns</p>\n",
       "</div>"
      ],
      "text/plain": [
       "gender                                   F         M\n",
       "title                                               \n",
       "Blair Witch Project, The (1999)   1.313929  1.317775\n",
       "Natural Born Killers (1994)       1.355926  1.298487\n",
       "Dumb & Dumber (1994)              1.354196  1.277333\n",
       "Tank Girl (1995)                  1.300054  1.264366\n",
       "Serial Mom (1994)                 1.125951  1.257872\n",
       "...                                    ...       ...\n",
       "Raiders of the Lost Ark (1981)    0.792796  0.699111\n",
       "Rear Window (1954)                0.671284  0.696009\n",
       "Shawshank Redemption, The (1994)  0.719194  0.693091\n",
       "Close Shave, A (1995)             0.584934  0.690455\n",
       "Great Escape, The (1963)          0.802156  0.669139\n",
       "\n",
       "[1216 rows x 2 columns]"
      ]
     },
     "execution_count": 43,
     "metadata": {},
     "output_type": "execute_result"
    }
   ],
   "source": [
    "mean_rating[\"std\"].sort_values(by=\"M\")[-1::-1]"
   ]
  },
  {
   "cell_type": "code",
   "execution_count": 44,
   "metadata": {},
   "outputs": [
    {
     "data": {
      "text/html": [
       "<div>\n",
       "<style scoped>\n",
       "    .dataframe tbody tr th:only-of-type {\n",
       "        vertical-align: middle;\n",
       "    }\n",
       "\n",
       "    .dataframe tbody tr th {\n",
       "        vertical-align: top;\n",
       "    }\n",
       "\n",
       "    .dataframe thead th {\n",
       "        text-align: right;\n",
       "    }\n",
       "</style>\n",
       "<table border=\"1\" class=\"dataframe\">\n",
       "  <thead>\n",
       "    <tr style=\"text-align: right;\">\n",
       "      <th>gender</th>\n",
       "      <th>F</th>\n",
       "      <th>M</th>\n",
       "    </tr>\n",
       "    <tr>\n",
       "      <th>title</th>\n",
       "      <th></th>\n",
       "      <th></th>\n",
       "    </tr>\n",
       "  </thead>\n",
       "  <tbody>\n",
       "    <tr>\n",
       "      <th>Soldier (1998)</th>\n",
       "      <td>1.374946</td>\n",
       "      <td>1.048801</td>\n",
       "    </tr>\n",
       "    <tr>\n",
       "      <th>South Park: Bigger, Longer and Uncut (1999)</th>\n",
       "      <td>1.373668</td>\n",
       "      <td>1.182896</td>\n",
       "    </tr>\n",
       "    <tr>\n",
       "      <th>Nightmare on Elm Street, A (1984)</th>\n",
       "      <td>1.365397</td>\n",
       "      <td>1.131927</td>\n",
       "    </tr>\n",
       "    <tr>\n",
       "      <th>Natural Born Killers (1994)</th>\n",
       "      <td>1.355926</td>\n",
       "      <td>1.298487</td>\n",
       "    </tr>\n",
       "    <tr>\n",
       "      <th>Dumb &amp; Dumber (1994)</th>\n",
       "      <td>1.354196</td>\n",
       "      <td>1.277333</td>\n",
       "    </tr>\n",
       "    <tr>\n",
       "      <th>Clockwork Orange, A (1971)</th>\n",
       "      <td>1.352036</td>\n",
       "      <td>1.037948</td>\n",
       "    </tr>\n",
       "    <tr>\n",
       "      <th>Rocky IV (1985)</th>\n",
       "      <td>1.342549</td>\n",
       "      <td>1.135562</td>\n",
       "    </tr>\n",
       "    <tr>\n",
       "      <th>Bicentennial Man (1999)</th>\n",
       "      <td>1.333791</td>\n",
       "      <td>1.219125</td>\n",
       "    </tr>\n",
       "    <tr>\n",
       "      <th>Evil Dead II (Dead By Dawn) (1987)</th>\n",
       "      <td>1.331697</td>\n",
       "      <td>1.061631</td>\n",
       "    </tr>\n",
       "    <tr>\n",
       "      <th>Ghost Dog: The Way of the Samurai (1999)</th>\n",
       "      <td>1.325736</td>\n",
       "      <td>1.002974</td>\n",
       "    </tr>\n",
       "    <tr>\n",
       "      <th>Wes Craven's New Nightmare (1994)</th>\n",
       "      <td>1.321668</td>\n",
       "      <td>1.223053</td>\n",
       "    </tr>\n",
       "    <tr>\n",
       "      <th>Godzilla (Gojira) (1954)</th>\n",
       "      <td>1.316869</td>\n",
       "      <td>1.176630</td>\n",
       "    </tr>\n",
       "    <tr>\n",
       "      <th>Blair Witch Project, The (1999)</th>\n",
       "      <td>1.313929</td>\n",
       "      <td>1.317775</td>\n",
       "    </tr>\n",
       "    <tr>\n",
       "      <th>Rambo III (1988)</th>\n",
       "      <td>1.312565</td>\n",
       "      <td>1.059979</td>\n",
       "    </tr>\n",
       "    <tr>\n",
       "      <th>Pee-wee's Big Adventure (1985)</th>\n",
       "      <td>1.312522</td>\n",
       "      <td>1.136171</td>\n",
       "    </tr>\n",
       "    <tr>\n",
       "      <th>Beavis and Butt-head Do America (1996)</th>\n",
       "      <td>1.312474</td>\n",
       "      <td>1.141387</td>\n",
       "    </tr>\n",
       "    <tr>\n",
       "      <th>Pet Sematary (1989)</th>\n",
       "      <td>1.307950</td>\n",
       "      <td>1.090072</td>\n",
       "    </tr>\n",
       "    <tr>\n",
       "      <th>Lord of the Rings, The (1978)</th>\n",
       "      <td>1.300551</td>\n",
       "      <td>1.112479</td>\n",
       "    </tr>\n",
       "    <tr>\n",
       "      <th>Tank Girl (1995)</th>\n",
       "      <td>1.300054</td>\n",
       "      <td>1.264366</td>\n",
       "    </tr>\n",
       "    <tr>\n",
       "      <th>Happiness (1998)</th>\n",
       "      <td>1.299933</td>\n",
       "      <td>1.104618</td>\n",
       "    </tr>\n",
       "  </tbody>\n",
       "</table>\n",
       "</div>"
      ],
      "text/plain": [
       "gender                                              F         M\n",
       "title                                                          \n",
       "Soldier (1998)                               1.374946  1.048801\n",
       "South Park: Bigger, Longer and Uncut (1999)  1.373668  1.182896\n",
       "Nightmare on Elm Street, A (1984)            1.365397  1.131927\n",
       "Natural Born Killers (1994)                  1.355926  1.298487\n",
       "Dumb & Dumber (1994)                         1.354196  1.277333\n",
       "Clockwork Orange, A (1971)                   1.352036  1.037948\n",
       "Rocky IV (1985)                              1.342549  1.135562\n",
       "Bicentennial Man (1999)                      1.333791  1.219125\n",
       "Evil Dead II (Dead By Dawn) (1987)           1.331697  1.061631\n",
       "Ghost Dog: The Way of the Samurai (1999)     1.325736  1.002974\n",
       "Wes Craven's New Nightmare (1994)            1.321668  1.223053\n",
       "Godzilla (Gojira) (1954)                     1.316869  1.176630\n",
       "Blair Witch Project, The (1999)              1.313929  1.317775\n",
       "Rambo III (1988)                             1.312565  1.059979\n",
       "Pee-wee's Big Adventure (1985)               1.312522  1.136171\n",
       "Beavis and Butt-head Do America (1996)       1.312474  1.141387\n",
       "Pet Sematary (1989)                          1.307950  1.090072\n",
       "Lord of the Rings, The (1978)                1.300551  1.112479\n",
       "Tank Girl (1995)                             1.300054  1.264366\n",
       "Happiness (1998)                             1.299933  1.104618"
      ]
     },
     "execution_count": 44,
     "metadata": {},
     "output_type": "execute_result"
    }
   ],
   "source": [
    "mean_rating[\"std\"].sort_values(by=\"F\", ascending=False)[0:20]"
   ]
  },
  {
   "cell_type": "code",
   "execution_count": 45,
   "metadata": {},
   "outputs": [
    {
     "data": {
      "text/plain": [
       "<matplotlib.axes._subplots.AxesSubplot at 0x7f0b442f08e0>"
      ]
     },
     "execution_count": 45,
     "metadata": {},
     "output_type": "execute_result"
    },
    {
     "data": {
      "image/png": "[encoded data removed]",
      "text/plain": [
       "<Figure size 432x288 with 1 Axes>"
      ]
     },
     "metadata": {
      "needs_background": "light"
     },
     "output_type": "display_data"
    }
   ],
   "source": [
    "(mean_rating[\"std\"].sort_values(by=\"F\", ascending=False)[0:20]).plot(kind='bar')"
   ]
  },
  {
   "cell_type": "markdown",
   "metadata": {
    "slideshow": {
     "slide_type": "slide"
    }
   },
   "source": [
    "## Work in progress\n",
    "\n",
    "## Mini-project: Eurostat data\n",
    "\n",
    "### Performing some simple analysis on Eurostat data\n",
    "\n",
    "1. Get the data.\n",
    "2. Clean the data.\n",
    "3. Manipulate the data.\n",
    "4. Analyse the data.\n",
    "\n",
    "https://ec.europa.eu/eurostat"
   ]
  },
  {
   "cell_type": "markdown",
   "metadata": {
    "slideshow": {
     "slide_type": "slide"
    }
   },
   "source": [
    "### How can we get Eurostat data?"
   ]
  },
  {
   "cell_type": "code",
   "execution_count": 46,
   "metadata": {
    "slideshow": {
     "slide_type": "subslide"
    }
   },
   "outputs": [
    {
     "name": "stdout",
     "output_type": "stream",
     "text": [
      "Collecting pandasdmx\n",
      "  Downloading pandaSDMX-1.6.0-py3-none-any.whl (78 kB)\n",
      "\u001b[K     |████████████████████████████████| 78 kB 1.7 MB/s eta 0:00:01\n",
      "\u001b[?25hCollecting pydantic<1.8,>=1.7.1\n",
      "  Downloading pydantic-1.7.4-cp38-cp38-manylinux2014_x86_64.whl (12.3 MB)\n",
      "\u001b[K     |████████████████████████████████| 12.3 MB 17.6 MB/s eta 0:00:01   |███▋                            | 1.4 MB 4.5 MB/s eta 0:00:03     |████▊                           | 1.8 MB 4.5 MB/s eta 0:00:03\n",
      "\u001b[?25hRequirement already satisfied: lxml>=3.6 in /opt/conda/lib/python3.8/site-packages (from pandasdmx) (4.5.2)\n",
      "Requirement already satisfied: pandas>=1.0 in /opt/conda/lib/python3.8/site-packages (from pandasdmx) (1.0.5)\n",
      "Requirement already satisfied: requests>=2.7 in /opt/conda/lib/python3.8/site-packages (from pandasdmx) (2.24.0)\n",
      "Requirement already satisfied: numpy>=1.13.3 in /opt/conda/lib/python3.8/site-packages (from pandas>=1.0->pandasdmx) (1.18.5)\n",
      "Requirement already satisfied: pytz>=2017.2 in /opt/conda/lib/python3.8/site-packages (from pandas>=1.0->pandasdmx) (2020.1)\n",
      "Requirement already satisfied: python-dateutil>=2.6.1 in /opt/conda/lib/python3.8/site-packages (from pandas>=1.0->pandasdmx) (2.8.1)\n",
      "Requirement already satisfied: urllib3!=1.25.0,!=1.25.1,<1.26,>=1.21.1 in /opt/conda/lib/python3.8/site-packages (from requests>=2.7->pandasdmx) (1.25.9)\n",
      "Requirement already satisfied: certifi>=2017.4.17 in /opt/conda/lib/python3.8/site-packages (from requests>=2.7->pandasdmx) (2020.6.20)\n",
      "Requirement already satisfied: idna<3,>=2.5 in /opt/conda/lib/python3.8/site-packages (from requests>=2.7->pandasdmx) (2.10)\n",
      "Requirement already satisfied: chardet<4,>=3.0.2 in /opt/conda/lib/python3.8/site-packages (from requests>=2.7->pandasdmx) (3.0.4)\n",
      "Requirement already satisfied: six>=1.5 in /opt/conda/lib/python3.8/site-packages (from python-dateutil>=2.6.1->pandas>=1.0->pandasdmx) (1.15.0)\n",
      "Installing collected packages: pydantic, pandasdmx\n",
      "Successfully installed pandasdmx-1.6.0 pydantic-1.7.4\n"
     ]
    }
   ],
   "source": [
    "!pip install pandasdmx"
   ]
  },
  {
   "cell_type": "code",
   "execution_count": null,
   "metadata": {},
   "outputs": [
    {
     "name": "stderr",
     "output_type": "stream",
     "text": [
      "/opt/conda/lib/python3.8/site-packages/pandasdmx/remote.py:11: RuntimeWarning: optional dependency requests_cache is not installed; cache options to Session() have no effect\n",
      "  warn(\n"
     ]
    }
   ],
   "source": [
    "from pandasdmx import Request\n",
    "estat = Request('ESTAT')\n",
    "resp = estat.data('une_rt_a', params={'startPeriod': '2007'})"
   ]
  },
  {
   "cell_type": "code",
   "execution_count": null,
   "metadata": {},
   "outputs": [],
   "source": []
  }
 ],
 "metadata": {
  "celltoolbar": "Slideshow",
  "kernelspec": {
   "display_name": "Python 3",
   "language": "python",
   "name": "python3"
  },
  "language_info": {
   "codemirror_mode": {
    "name": "ipython",
    "version": 3
   },
   "file_extension": ".py",
   "mimetype": "text/x-python",
   "name": "python",
   "nbconvert_exporter": "python",
   "pygments_lexer": "ipython3",
   "version": "3.8.3"
  }
 },
 "nbformat": 4,
 "nbformat_minor": 2
}
