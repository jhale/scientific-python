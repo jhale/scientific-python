{
 "cells": [
  {
   "cell_type": "markdown",
   "metadata": {
    "slideshow": {
     "slide_type": "slide"
    }
   },
   "source": [
    "# Lecture 2\n",
    "## Some basics\n",
    "## 1 hour 30 minutes"
   ]
  },
  {
   "cell_type": "markdown",
   "metadata": {
    "slideshow": {
     "slide_type": "slide"
    }
   },
   "source": [
    "## Covered topics:\n",
    "\n",
    "* Variables.\n",
    "* Types.\n",
    "  * Integers.\n",
    "  * Casting.\n",
    "  * Floating point numbers.\n",
    "* Functions."
   ]
  },
  {
   "cell_type": "markdown",
   "metadata": {
    "slideshow": {
     "slide_type": "slide"
    }
   },
   "source": [
    "## Variable assignment"
   ]
  },
  {
   "cell_type": "code",
   "execution_count": 101,
   "metadata": {
    "slideshow": {
     "slide_type": "slide"
    }
   },
   "outputs": [
    {
     "name": "stdout",
     "output_type": "stream",
     "text": [
      "8\n"
     ]
    }
   ],
   "source": [
    "x = 3 # Assign the variable x the value of 3\n",
    "y = 5 # Assign the variable y the value of 5\n",
    "z = x + y # Add x any y then assign the variable z the result\n",
    "print(z)"
   ]
  },
  {
   "cell_type": "markdown",
   "metadata": {
    "slideshow": {
     "slide_type": "slide"
    }
   },
   "source": [
    "## Types and Casting"
   ]
  },
  {
   "cell_type": "markdown",
   "metadata": {
    "slideshow": {
     "slide_type": "slide"
    }
   },
   "source": [
    "There are many basic *types* in Python. They are each specially designed for storing different *types of data*."
   ]
  },
  {
   "cell_type": "markdown",
   "metadata": {
    "slideshow": {
     "slide_type": "slide"
    }
   },
   "source": [
    "## Basic types"
   ]
  },
  {
   "cell_type": "markdown",
   "metadata": {
    "slideshow": {
     "slide_type": "slide"
    }
   },
   "source": [
    "Booleans hold just two values `True` or `False`."
   ]
  },
  {
   "cell_type": "code",
   "execution_count": 12,
   "metadata": {
    "slideshow": {
     "slide_type": "fragment"
    }
   },
   "outputs": [],
   "source": [
    "x = True # Booleans\n",
    "x = 3 # Integers (int)\n",
    "x = 3.0 # Floating-point numbers (float)\n",
    "x = 1.0 + 2.0j # Complex numbers (complex)"
   ]
  },
  {
   "cell_type": "markdown",
   "metadata": {
    "slideshow": {
     "slide_type": "slide"
    }
   },
   "source": [
    "*Exercise*: What is the output of the following code? Why?"
   ]
  },
  {
   "cell_type": "code",
   "execution_count": 19,
   "metadata": {
    "slideshow": {
     "slide_type": "fragment"
    }
   },
   "outputs": [
    {
     "name": "stdout",
     "output_type": "stream",
     "text": [
      "8.5693\n"
     ]
    }
   ],
   "source": [
    "x = 3\n",
    "y = 5.5693\n",
    "z = x + y\n",
    "print(z)"
   ]
  },
  {
   "cell_type": "markdown",
   "metadata": {
    "slideshow": {
     "slide_type": "slide"
    }
   },
   "source": [
    "We can ask Python for the `type` of a variable. This is called *introspection* (jargon)."
   ]
  },
  {
   "cell_type": "code",
   "execution_count": 10,
   "metadata": {
    "slideshow": {
     "slide_type": "fragment"
    }
   },
   "outputs": [
    {
     "name": "stdout",
     "output_type": "stream",
     "text": [
      "<class 'int'>\n",
      "<class 'float'>\n",
      "<class 'float'>\n"
     ]
    }
   ],
   "source": [
    "print(type(x))\n",
    "print(type(y))\n",
    "print(type(z))"
   ]
  },
  {
   "cell_type": "markdown",
   "metadata": {
    "slideshow": {
     "slide_type": "slide"
    }
   },
   "source": [
    "## What happened?\n",
    "\n",
    "*Casting* - Changing a variable of one *type* to another *type*.\n",
    "\n",
    "*Implicit casting* - Python automatically performs a 'sensible' casting for you.\n",
    "\n",
    "Python *implicitly cast* the variable `x` from an `int` type to a `float` type. Then it added `x` (`float`) to `y`  (`float`) and assigned the result to `z` (`float`)."
   ]
  },
  {
   "cell_type": "markdown",
   "metadata": {
    "slideshow": {
     "slide_type": "slide"
    }
   },
   "source": [
    "## Implicit casting is not always possible\n",
    "\n",
    "*Exercise*: What is the output of the following code? Why?"
   ]
  },
  {
   "cell_type": "code",
   "execution_count": 23,
   "metadata": {
    "slideshow": {
     "slide_type": "fragment"
    }
   },
   "outputs": [
    {
     "ename": "TypeError",
     "evalue": "unsupported operand type(s) for +: 'int' and 'str'",
     "output_type": "error",
     "traceback": [
      "\u001b[0;31m---------------------------------------------------------------------------\u001b[0m",
      "\u001b[0;31mTypeError\u001b[0m                                 Traceback (most recent call last)",
      "\u001b[0;32m<ipython-input-23-9961aa806c05>\u001b[0m in \u001b[0;36m<module>\u001b[0;34m\u001b[0m\n\u001b[1;32m      1\u001b[0m \u001b[0mx\u001b[0m \u001b[0;34m=\u001b[0m \u001b[0;36m3\u001b[0m\u001b[0;34m\u001b[0m\u001b[0;34m\u001b[0m\u001b[0m\n\u001b[1;32m      2\u001b[0m \u001b[0my\u001b[0m \u001b[0;34m=\u001b[0m \u001b[0;34m\"5\"\u001b[0m\u001b[0;34m\u001b[0m\u001b[0;34m\u001b[0m\u001b[0m\n\u001b[0;32m----> 3\u001b[0;31m \u001b[0mz\u001b[0m \u001b[0;34m=\u001b[0m \u001b[0mx\u001b[0m \u001b[0;34m+\u001b[0m \u001b[0my\u001b[0m\u001b[0;34m\u001b[0m\u001b[0;34m\u001b[0m\u001b[0m\n\u001b[0m",
      "\u001b[0;31mTypeError\u001b[0m: unsupported operand type(s) for +: 'int' and 'str'"
     ]
    }
   ],
   "source": [
    "x = 3\n",
    "y = \"5\"\n",
    "z = x + y"
   ]
  },
  {
   "cell_type": "markdown",
   "metadata": {
    "slideshow": {
     "slide_type": "slide"
    }
   },
   "source": [
    "*Exercise:* What are the types of `x` and `y`? (Use e.g. `type(x)`)"
   ]
  },
  {
   "cell_type": "code",
   "execution_count": 24,
   "metadata": {
    "slideshow": {
     "slide_type": "slide"
    }
   },
   "outputs": [
    {
     "name": "stdout",
     "output_type": "stream",
     "text": [
      "<class 'int'>\n",
      "<class 'str'>\n"
     ]
    }
   ],
   "source": [
    "print(type(x))\n",
    "print(type(y))"
   ]
  },
  {
   "cell_type": "markdown",
   "metadata": {
    "slideshow": {
     "slide_type": "slide"
    }
   },
   "source": [
    "## How can we fix the problem?\n",
    "\n",
    "There are two logical ways to interpret adding `+` an integer `x` and a string `y`.\n",
    "\n",
    "1. Convert `x` (`int`) to a `str`, then `+` (concatenate) `x` onto the front of `y`.\n",
    "2. Convert `y` (`str`) to an `int`, then `+` (add) `x` to `y`.\n",
    "\n",
    "Python is not magic! You need to tell Python what you really want by *explicitly casting*."
   ]
  },
  {
   "cell_type": "code",
   "execution_count": 35,
   "metadata": {
    "slideshow": {
     "slide_type": "slide"
    }
   },
   "outputs": [
    {
     "name": "stdout",
     "output_type": "stream",
     "text": [
      "<class 'int'>\n",
      "5\n",
      "<class 'str'>\n",
      "5\n",
      "<class 'int'>\n"
     ]
    }
   ],
   "source": [
    "a = 5\n",
    "print(type(a))\n",
    "b = str(a)\n",
    "print(b)\n",
    "print(type(b))\n",
    "c = int(b)\n",
    "print(c)\n",
    "print(type(c))"
   ]
  },
  {
   "cell_type": "markdown",
   "metadata": {
    "slideshow": {
     "slide_type": "slide"
    }
   },
   "source": [
    "*Exercise:* Modify line `3` using `int` make the following code run."
   ]
  },
  {
   "cell_type": "code",
   "execution_count": null,
   "metadata": {
    "slideshow": {
     "slide_type": "fragment"
    }
   },
   "outputs": [],
   "source": [
    "x = 3\n",
    "y = \"5\"\n",
    "z = x + y\n",
    "print(z)"
   ]
  },
  {
   "cell_type": "markdown",
   "metadata": {
    "slideshow": {
     "slide_type": "slide"
    }
   },
   "source": [
    "Solution:"
   ]
  },
  {
   "cell_type": "code",
   "execution_count": 40,
   "metadata": {
    "slideshow": {
     "slide_type": "fragment"
    }
   },
   "outputs": [
    {
     "name": "stdout",
     "output_type": "stream",
     "text": [
      "8\n"
     ]
    }
   ],
   "source": [
    "x = 3\n",
    "y = \"5\"\n",
    "z = x + int(y)\n",
    "print(z)"
   ]
  },
  {
   "cell_type": "markdown",
   "metadata": {
    "slideshow": {
     "slide_type": "slide"
    }
   },
   "source": [
    "*Exercise:* Modify line `3` using the function `str` make the following code run."
   ]
  },
  {
   "cell_type": "code",
   "execution_count": 43,
   "metadata": {
    "slideshow": {
     "slide_type": "fragment"
    }
   },
   "outputs": [
    {
     "ename": "TypeError",
     "evalue": "unsupported operand type(s) for +: 'int' and 'str'",
     "output_type": "error",
     "traceback": [
      "\u001b[0;31m---------------------------------------------------------------------------\u001b[0m",
      "\u001b[0;31mTypeError\u001b[0m                                 Traceback (most recent call last)",
      "\u001b[0;32m<ipython-input-43-d6e5848541f0>\u001b[0m in \u001b[0;36m<module>\u001b[0;34m\u001b[0m\n\u001b[1;32m      1\u001b[0m \u001b[0mx\u001b[0m \u001b[0;34m=\u001b[0m \u001b[0;36m3\u001b[0m\u001b[0;34m\u001b[0m\u001b[0;34m\u001b[0m\u001b[0m\n\u001b[1;32m      2\u001b[0m \u001b[0my\u001b[0m \u001b[0;34m=\u001b[0m \u001b[0;34m\"5\"\u001b[0m\u001b[0;34m\u001b[0m\u001b[0;34m\u001b[0m\u001b[0m\n\u001b[0;32m----> 3\u001b[0;31m \u001b[0mz\u001b[0m \u001b[0;34m=\u001b[0m \u001b[0mx\u001b[0m \u001b[0;34m+\u001b[0m \u001b[0my\u001b[0m\u001b[0;34m\u001b[0m\u001b[0;34m\u001b[0m\u001b[0m\n\u001b[0m\u001b[1;32m      4\u001b[0m \u001b[0mprint\u001b[0m\u001b[0;34m(\u001b[0m\u001b[0mz\u001b[0m\u001b[0;34m)\u001b[0m\u001b[0;34m\u001b[0m\u001b[0;34m\u001b[0m\u001b[0m\n",
      "\u001b[0;31mTypeError\u001b[0m: unsupported operand type(s) for +: 'int' and 'str'"
     ]
    }
   ],
   "source": [
    "x = 3\n",
    "y = \"5\"\n",
    "z = x + y\n",
    "print(z)"
   ]
  },
  {
   "cell_type": "markdown",
   "metadata": {
    "slideshow": {
     "slide_type": "slide"
    }
   },
   "source": [
    "Solution:"
   ]
  },
  {
   "cell_type": "code",
   "execution_count": 42,
   "metadata": {
    "slideshow": {
     "slide_type": "fragment"
    }
   },
   "outputs": [
    {
     "name": "stdout",
     "output_type": "stream",
     "text": [
      "35\n"
     ]
    }
   ],
   "source": [
    "x = 3\n",
    "y = \"5\"\n",
    "z = str(x) + y\n",
    "print(z)"
   ]
  },
  {
   "cell_type": "markdown",
   "metadata": {
    "slideshow": {
     "slide_type": "slide"
    }
   },
   "source": [
    "## Some more complex types\n",
    "\n",
    "Data structures.\n",
    "\n",
    "### Lists\n",
    "\n",
    "A collection of values, possibly of different type."
   ]
  },
  {
   "cell_type": "code",
   "execution_count": 233,
   "metadata": {
    "slideshow": {
     "slide_type": "fragment"
    }
   },
   "outputs": [
    {
     "name": "stdout",
     "output_type": "stream",
     "text": [
      "[3, 4, 5, 6, 7]\n",
      "[3, 'test', 4, 9]\n"
     ]
    }
   ],
   "source": [
    "some_numbers = [3, 4, 5, 6, 7] \n",
    "print(some_numbers)\n",
    "mixed_types = [3, \"test\", 4, 9]\n",
    "print(mixed_types)"
   ]
  },
  {
   "cell_type": "markdown",
   "metadata": {
    "slideshow": {
     "slide_type": "slide"
    }
   },
   "source": [
    "Exercise: Write code to join the two lists `some_numbers` and together (using `+`) and print the result."
   ]
  },
  {
   "cell_type": "code",
   "execution_count": 114,
   "metadata": {
    "slideshow": {
     "slide_type": "fragment"
    }
   },
   "outputs": [
    {
     "data": {
      "text/plain": [
       "[3, 4, 5, 6, 7, 3, 'test', 4, 9]"
      ]
     },
     "execution_count": 114,
     "metadata": {},
     "output_type": "execute_result"
    }
   ],
   "source": [
    "some_numbers + mixed_types"
   ]
  },
  {
   "cell_type": "markdown",
   "metadata": {
    "slideshow": {
     "slide_type": "slide"
    }
   },
   "source": [
    "### Tuples\n",
    "\n",
    "An *immutable* collection of values.\n",
    " \n",
    "*Immutable* something that cannot be changed after is is created."
   ]
  },
  {
   "cell_type": "code",
   "execution_count": 99,
   "metadata": {
    "slideshow": {
     "slide_type": "fragment"
    }
   },
   "outputs": [
    {
     "name": "stdout",
     "output_type": "stream",
     "text": [
      "3\n",
      "4\n",
      "6\n",
      "7\n"
     ]
    }
   ],
   "source": [
    "a_tuple = (3, 4, 5, 6, 7) # A tuple containing 4 values.\n",
    "print(a_tuple[0]) # The first element of the tuple.\n",
    "print(a_tuple[1]) # The second element of the tuple.\n",
    "print(a_tuple[3]) # The fourth element of the tuple.\n",
    "print(a_tuple[-1]) # The last element of the tuple."
   ]
  },
  {
   "cell_type": "markdown",
   "metadata": {
    "slideshow": {
     "slide_type": "slide"
    }
   },
   "source": [
    "*Slicing* allows us to select *subsets* of a collection.\n",
    "\n",
    "We will look closer at slicing in Lecture 4.\n",
    "\n",
    "Exercise: What do the following commands do?"
   ]
  },
  {
   "cell_type": "code",
   "execution_count": 226,
   "metadata": {
    "slideshow": {
     "slide_type": "subslide"
    }
   },
   "outputs": [
    {
     "name": "stdout",
     "output_type": "stream",
     "text": [
      "(3, 4, 5, 6, 7)\n",
      "(4, 5, 6, 7)\n",
      "(3, 4)\n",
      "(7,)\n"
     ]
    }
   ],
   "source": [
    "a_tuple = (3, 4, 5, 6, 7) \n",
    "print(a_tuple[:])\n",
    "print(a_tuple[1:])\n",
    "print(a_tuple[0:2])\n",
    "print(a_tuple[-1:])"
   ]
  },
  {
   "cell_type": "markdown",
   "metadata": {
    "slideshow": {
     "slide_type": "slide"
    }
   },
   "source": [
    "Exercise: Add code that uses slicing to:\n",
    "* print the second to last element of the list.\n",
    "* print the second, third, fourth and fifth element of the list.\n",
    "* bonus: every second element of the list `[start:stop:skip]`\n",
    "* bonus: set your neighbour a challenge!"
   ]
  },
  {
   "cell_type": "code",
   "execution_count": 232,
   "metadata": {
    "slideshow": {
     "slide_type": "fragment"
    }
   },
   "outputs": [
    {
     "name": "stdout",
     "output_type": "stream",
     "text": [
      "76.85\n",
      "[8.0, 12.0, 93.6, 23.2]\n",
      "[3.0, 12.0, 23.2, 93.2]\n"
     ]
    }
   ],
   "source": [
    "a_list = [3.0, 8.0, 12.0, 93.6, 23.2, 76.85, 93.2]\n",
    "print(a_list[-2])\n",
    "print(a_list[1:5])\n",
    "print(a_list[::2])"
   ]
  },
  {
   "cell_type": "markdown",
   "metadata": {
    "slideshow": {
     "slide_type": "slide"
    }
   },
   "source": [
    "### Dictionaries\n",
    "\n",
    "A map between keys and values."
   ]
  },
  {
   "cell_type": "code",
   "execution_count": 221,
   "metadata": {
    "slideshow": {
     "slide_type": "fragment"
    }
   },
   "outputs": [
    {
     "data": {
      "text/plain": [
       "'Jack'"
      ]
     },
     "execution_count": 221,
     "metadata": {},
     "output_type": "execute_result"
    }
   ],
   "source": [
    "my_information = {\"name\": \"Hale\",\n",
    "                  \"age\": 33}\n",
    "my_information\n",
    "a_dict[\"name\"]"
   ]
  },
  {
   "cell_type": "markdown",
   "metadata": {
    "slideshow": {
     "slide_type": "slide"
    }
   },
   "source": [
    "### Iterating\n",
    "\n",
    "Passing over the *elements* of a list one at a time."
   ]
  },
  {
   "cell_type": "code",
   "execution_count": null,
   "metadata": {
    "slideshow": {
     "slide_type": "slide"
    }
   },
   "outputs": [],
   "source": [
    "for "
   ]
  },
  {
   "cell_type": "markdown",
   "metadata": {
    "slideshow": {
     "slide_type": "slide"
    }
   },
   "source": [
    "# Functions"
   ]
  },
  {
   "cell_type": "markdown",
   "metadata": {
    "slideshow": {
     "slide_type": "slide"
    }
   },
   "source": [
    "We've already used some *built-in* functions!\n",
    "\n",
    "* `int(\"5\")`\n",
    "* `print(\"string\")`\n",
    "* `type(5)`\n",
    "\n",
    "*Functions* take zero or more *arguments* and returns zero or one variable.\n",
    "\n",
    "**Purpose of functions**: Split a computer program up into simple and re-usable blocks of functionality."
   ]
  },
  {
   "cell_type": "markdown",
   "metadata": {
    "slideshow": {
     "slide_type": "slide"
    }
   },
   "source": [
    "## A simple function\n",
    "\n",
    "Python uses indentation to define blocks of code, e.g. functions."
   ]
  },
  {
   "cell_type": "code",
   "execution_count": 110,
   "metadata": {
    "slideshow": {
     "slide_type": "fragment"
    }
   },
   "outputs": [
    {
     "name": "stdout",
     "output_type": "stream",
     "text": [
      "8\n",
      "15.0\n"
     ]
    }
   ],
   "source": [
    "def add(a, b):\n",
    "    c = a + b\n",
    "    return c\n",
    "\n",
    "print(add(3, 5))\n",
    "print(add(10, 5.0))"
   ]
  },
  {
   "cell_type": "markdown",
   "metadata": {
    "slideshow": {
     "slide_type": "slide"
    }
   },
   "source": [
    "Exercise: Write a function `multiply` taking three arguments and returns the multiple (symbol: `*`) of the three arguments."
   ]
  },
  {
   "cell_type": "code",
   "execution_count": 50,
   "metadata": {
    "slideshow": {
     "slide_type": "slide"
    }
   },
   "outputs": [],
   "source": [
    "def multiply(a, b, c):\n",
    "    d = a * b * c\n",
    "    return d"
   ]
  },
  {
   "cell_type": "code",
   "execution_count": 51,
   "metadata": {
    "slideshow": {
     "slide_type": "fragment"
    }
   },
   "outputs": [],
   "source": [
    "assert(multiply(3, 4, 5) == 60)"
   ]
  },
  {
   "cell_type": "markdown",
   "metadata": {
    "slideshow": {
     "slide_type": "slide"
    }
   },
   "source": [
    "### Documenting functions\n",
    "\n",
    "It is important to document your functions!"
   ]
  },
  {
   "cell_type": "code",
   "execution_count": 64,
   "metadata": {
    "slideshow": {
     "slide_type": "fragment"
    }
   },
   "outputs": [],
   "source": [
    "def multiply(a, b, c):\n",
    "    \"\"\"Takes three arguments and returns their multiple.\n",
    "    \n",
    "    The string can have multiple lines.\n",
    "    \"\"\"\n",
    "    d = a * b * c\n",
    "    return d"
   ]
  },
  {
   "cell_type": "markdown",
   "metadata": {
    "slideshow": {
     "slide_type": "subslide"
    }
   },
   "source": [
    "In a Jupyter Notebook you can ask for the documentation of any function by typing `?` after its name:"
   ]
  },
  {
   "cell_type": "code",
   "execution_count": 57,
   "metadata": {
    "slideshow": {
     "slide_type": "fragment"
    }
   },
   "outputs": [],
   "source": [
    "multiply?"
   ]
  },
  {
   "cell_type": "markdown",
   "metadata": {
    "slideshow": {
     "slide_type": "slide"
    }
   },
   "source": [
    "Exercise: Try typing `?` after `int`."
   ]
  },
  {
   "cell_type": "code",
   "execution_count": 61,
   "metadata": {
    "slideshow": {
     "slide_type": "fragment"
    }
   },
   "outputs": [],
   "source": [
    "int?"
   ]
  },
  {
   "cell_type": "markdown",
   "metadata": {
    "slideshow": {
     "slide_type": "slide"
    }
   },
   "source": [
    "The `Init signature` is `int(self, /, *args, **kwargs)`.\n",
    "\n",
    "What are `*args` and `**kwargs`?"
   ]
  },
  {
   "cell_type": "markdown",
   "metadata": {
    "slideshow": {
     "slide_type": "slide"
    }
   },
   "source": [
    "### `*args`: \n",
    "\n",
    "Purpose: Write *one* function that can take zero *or* more arguments."
   ]
  },
  {
   "cell_type": "code",
   "execution_count": 85,
   "metadata": {
    "slideshow": {
     "slide_type": "slide"
    }
   },
   "outputs": [
    {
     "name": "stdout",
     "output_type": "stream",
     "text": [
      "<class 'tuple'>\n",
      "()\n",
      "<class 'tuple'>\n",
      "(3, 4)\n",
      "<class 'tuple'>\n",
      "(5, 6, 7)\n"
     ]
    }
   ],
   "source": [
    "def arg_demo_1(*args):\n",
    "    print(type(args))\n",
    "    print(args)\n",
    "    \n",
    "arg_demo_1()\n",
    "arg_demo_1(3, 4)\n",
    "arg_demo_1(5, 6, 7)"
   ]
  },
  {
   "cell_type": "markdown",
   "metadata": {},
   "source": [
    "*Exercise*: What do the following slices do?"
   ]
  },
  {
   "cell_type": "markdown",
   "metadata": {
    "slideshow": {
     "slide_type": "slide"
    }
   },
   "source": [
    " Key point: args is of type *tuple*.\n",
    " "
   ]
  },
  {
   "cell_type": "markdown",
   "metadata": {
    "slideshow": {
     "slide_type": "slide"
    }
   },
   "source": [
    "E"
   ]
  },
  {
   "cell_type": "markdown",
   "metadata": {
    "slideshow": {
     "slide_type": "slide"
    }
   },
   "source": [
    "### Why is that useful?\n",
    "\n",
    "Consider the alternative:\n",
    "\n",
    "A function to add two variables, and three..."
   ]
  },
  {
   "cell_type": "code",
   "execution_count": 89,
   "metadata": {
    "slideshow": {
     "slide_type": "fragment"
    }
   },
   "outputs": [],
   "source": [
    "def add_two_variables(a, b):\n",
    "    return a + b\n",
    "\n",
    "def add_three_variables(a, b, c):\n",
    "    return a + b + c"
   ]
  },
  {
   "cell_type": "code",
   "execution_count": 80,
   "metadata": {
    "slideshow": {
     "slide_type": "slide"
    }
   },
   "outputs": [],
   "source": [
    "def add(*args):\n",
    "    result = 0\n",
    "    for arg in args:\n",
    "        result = result + arg\n",
    "    return result"
   ]
  },
  {
   "cell_type": "code",
   "execution_count": 81,
   "metadata": {
    "slideshow": {
     "slide_type": "fragment"
    }
   },
   "outputs": [
    {
     "data": {
      "text/plain": [
       "12"
      ]
     },
     "execution_count": 81,
     "metadata": {},
     "output_type": "execute_result"
    }
   ],
   "source": [
    "add(3, 4, 5)"
   ]
  },
  {
   "cell_type": "code",
   "execution_count": 82,
   "metadata": {
    "slideshow": {
     "slide_type": "fragment"
    }
   },
   "outputs": [
    {
     "data": {
      "text/plain": [
       "47"
      ]
     },
     "execution_count": 82,
     "metadata": {},
     "output_type": "execute_result"
    }
   ],
   "source": [
    "add(10, 11, 12, 14)"
   ]
  },
  {
   "cell_type": "markdown",
   "metadata": {
    "slideshow": {
     "slide_type": "slide"
    }
   },
   "source": [
    "## `**kwargs`\n",
    "\n",
    "Purpose: Pass named arguments. Useful when function has *many* arguments."
   ]
  },
  {
   "cell_type": "code",
   "execution_count": 127,
   "metadata": {},
   "outputs": [
    {
     "name": "stdout",
     "output_type": "stream",
     "text": [
      "<class 'dict'>\n",
      "{'do_something': True}\n"
     ]
    }
   ],
   "source": [
    "def kwarg_demo(**kwargs):\n",
    "    print(type(kwargs))\n",
    "    print(kwargs)\n",
    "\n",
    "kwarg_demo(do_something=True)"
   ]
  },
  {
   "cell_type": "code",
   "execution_count": 147,
   "metadata": {},
   "outputs": [],
   "source": [
    "import matplotlib.pyplot as plt\n",
    "plt.plot?"
   ]
  },
  {
   "cell_type": "code",
   "execution_count": 149,
   "metadata": {},
   "outputs": [
    {
     "data": {
      "text/plain": [
       "[<matplotlib.lines.Line2D at 0x7f4103ef9c50>]"
      ]
     },
     "execution_count": 149,
     "metadata": {},
     "output_type": "execute_result"
    },
    {
     "data": {
      "image/png": "[encoded data removed]",
      "text/plain": [
       "<Figure size 432x288 with 1 Axes>"
      ]
     },
     "metadata": {
      "needs_background": "light"
     },
     "output_type": "display_data"
    }
   ],
   "source": [
    "plt.plot(2.0, 3.0, 'x')"
   ]
  },
  {
   "cell_type": "code",
   "execution_count": 150,
   "metadata": {},
   "outputs": [
    {
     "data": {
      "text/plain": [
       "[<matplotlib.lines.Line2D at 0x7f4108093048>]"
      ]
     },
     "execution_count": 150,
     "metadata": {},
     "output_type": "execute_result"
    },
    {
     "data": {
      "image/png": "[encoded data removed]",
      "text/plain": [
       "<Figure size 432x288 with 1 Axes>"
      ]
     },
     "metadata": {
      "needs_background": "light"
     },
     "output_type": "display_data"
    }
   ],
   "source": [
    "plt.plot(2.0, 3.0, 'x', color='tab:red')"
   ]
  },
  {
   "cell_type": "markdown",
   "metadata": {
    "slideshow": {
     "slide_type": "slide"
    }
   },
   "source": [
    "*Exercise*: Read the documentation of `plt.plot`. Change the size of the marker in the plot to be ten."
   ]
  },
  {
   "cell_type": "code",
   "execution_count": 154,
   "metadata": {
    "slideshow": {
     "slide_type": "fragment"
    }
   },
   "outputs": [
    {
     "data": {
      "text/plain": [
       "[<matplotlib.lines.Line2D at 0x7f410823d208>]"
      ]
     },
     "execution_count": 154,
     "metadata": {},
     "output_type": "execute_result"
    },
    {
     "data": {
      "image/png": "[encoded data removed]",
      "text/plain": [
       "<Figure size 432x288 with 1 Axes>"
      ]
     },
     "metadata": {
      "needs_background": "light"
     },
     "output_type": "display_data"
    }
   ],
   "source": [
    "plt.plot(2.0, 3.0, 'x', color='tab:red', markersize=10.0)"
   ]
  },
  {
   "cell_type": "markdown",
   "metadata": {},
   "source": [
    "## Summary before exercises\n",
    "\n"
   ]
  },
  {
   "cell_type": "markdown",
   "metadata": {
    "slideshow": {
     "slide_type": "slide"
    }
   },
   "source": [
    "# Exercise 1\n",
    "## Getting to grips with default arguments"
   ]
  },
  {
   "cell_type": "markdown",
   "metadata": {
    "slideshow": {
     "slide_type": "slide"
    }
   },
   "source": [
    "What is the output of the following code?"
   ]
  },
  {
   "cell_type": "code",
   "execution_count": 224,
   "metadata": {
    "slideshow": {
     "slide_type": "fragment"
    }
   },
   "outputs": [
    {
     "name": "stdout",
     "output_type": "stream",
     "text": [
      "10264\n",
      "102124\n"
     ]
    }
   ],
   "source": [
    "def numbers(first, second=2, third=6, fourth=4):\n",
    "    n = str(first) + str(second) + str(third) + str(fourth)\n",
    "    return n\n",
    "\n",
    "print(numbers(10))\n",
    "print(numbers(10, third=12))"
   ]
  },
  {
   "cell_type": "markdown",
   "metadata": {
    "slideshow": {
     "slide_type": "slide"
    }
   },
   "source": [
    "# Exercise 2\n",
    "## Writing functions with style"
   ]
  },
  {
   "cell_type": "markdown",
   "metadata": {
    "slideshow": {
     "slide_type": "slide"
    }
   },
   "source": [
    "The following function calculates the standard deviation of a list of numbers $p$.\n",
    "\n",
    "See: https://en.wikipedia.org/wiki/Standard_deviation Discrete Random Variables\n",
    "\n",
    "Discuss with your neighbour whether you think this is a well-written function. Can you identify things that could be improved?"
   ]
  },
  {
   "cell_type": "code",
   "execution_count": 165,
   "metadata": {
    "slideshow": {
     "slide_type": "fragment"
    }
   },
   "outputs": [],
   "source": [
    "def s(p):\n",
    "    a = 0\n",
    "    for v in p:\n",
    "        a = a + v\n",
    "    m = a / len(p)\n",
    "    d = 0\n",
    "    for v in p:\n",
    "        d = d + (v - m) * (v - m)\n",
    "    return (d / (len(p) - 1))**(1/2)"
   ]
  },
  {
   "cell_type": "markdown",
   "metadata": {
    "slideshow": {
     "slide_type": "slide"
    }
   },
   "source": [
    "Things you could improve:\n",
    "\n",
    "1. Rename the function and the variables to be more descriptive, e.g. `m` to `mean`.\n",
    "2. Add extra line breaks between logical sections. After an indented block of code, there should always be a blank line.\n",
    "3. Add a documentation string.\n",
    "4. Instead of using long-hand addition e.g. `a = a + b`, use the short-hand notation `a += b`.\n",
    "4. Add a default argument `corrected=True`.\n",
    "5. When `corrected` is `False`, instead compute the uncorrected estimate of the standard deviation (see Wikipedia).\n",
    "6. What happens when you pass an empty list `p = []`? How could you fix it?"
   ]
  },
  {
   "cell_type": "code",
   "execution_count": 182,
   "metadata": {
    "slideshow": {
     "slide_type": "slide"
    }
   },
   "outputs": [],
   "source": [
    "def std_dev(samples, corrected=True):\n",
    "    \"\"\"Calculate the standard deviation of the elements of the list samples.\n",
    "    \n",
    "    If corrected is `True` then compute the unbiased/corrected standard deviation.\n",
    "    If correct is `False` then compute the uncorrected standard deviation.\n",
    "    \"\"\"\n",
    "    if len(samples) == 0:\n",
    "        raise ValueError\n",
    "    \n",
    "    sample_sum = 0.0\n",
    "    for sample in samples:\n",
    "        sample_sum += sample\n",
    "\n",
    "    sample_mean = sample_sum / len(samples)\n",
    "\n",
    "    sum_squared_devs = 0.0\n",
    "    for sample in samples:\n",
    "        sum_squared_devs += (sample - sample_mean)**2\n",
    "        \n",
    "    if corrected:\n",
    "        return (sum_squared_devs / (len(samples) - 1))**(1/2)\n",
    "    else:\n",
    "        return (sum_squared_devs / (len(samples)))**(1/2)"
   ]
  },
  {
   "cell_type": "markdown",
   "metadata": {
    "slideshow": {
     "slide_type": "fragment"
    }
   },
   "source": [
    "Compare your answer with mine and your neighbours!"
   ]
  },
  {
   "cell_type": "markdown",
   "metadata": {
    "slideshow": {
     "slide_type": "slide"
    }
   },
   "source": [
    "# Exercise 3\n",
    "## Caution required: Floating point numbers"
   ]
  },
  {
   "cell_type": "markdown",
   "metadata": {
    "slideshow": {
     "slide_type": "slide"
    }
   },
   "source": [
    "Most problems in engineering, science and statistics require working with floating point numbers. However, computers do not work directly with floating point numbers or even base 10 numbers, but with their base 2 or binary representation."
   ]
  },
  {
   "cell_type": "markdown",
   "metadata": {},
   "source": [
    "# Storing integers"
   ]
  },
  {
   "cell_type": "markdown",
   "metadata": {
    "slideshow": {
     "slide_type": "slide"
    }
   },
   "source": [
    "## Base 10 representation of the number 342\n",
    "\n",
    "| $10^2$ | $10^1$ | $10^0$ |\n",
    "|--------|--------|--------|\n",
    "| 3      | 4      | 2      |\n",
    "\n",
    "$3 \\times 10^2 + 4 \\times 10^1 + 2 \\times 10^0 = 342$"
   ]
  },
  {
   "cell_type": "markdown",
   "metadata": {
    "slideshow": {
     "slide_type": "slide"
    }
   },
   "source": [
    "## Base 2 (binary) representation of the number 342\n",
    "\n",
    "\n",
    " | $2^8$ | $2^7$ | $2^6$ | $2^5$ | $2^4$ | $2^3$ | $2^2$ | $2^1$ | $2^0$ |\n",
    " |-------|-------|-------|-------|-------|-------|-------|-------|-------|\n",
    " | 1     | 0     | 1     | 0     | 1     | 0     | 1     | 1     | 0     |\n",
    "\n",
    "$1 \\times 2^8 + 0 \\times 2^7 + 1 \\times 2^6 + 0 \\times 2^5 + 1 \\times 2^4 + 0 \\times 2^3 + 1 \\times 2^2 + 1 \\times 2^1 + 0 \\times 2^0= 342$"
   ]
  },
  {
   "cell_type": "code",
   "execution_count": 195,
   "metadata": {
    "slideshow": {
     "slide_type": "fragment"
    }
   },
   "outputs": [
    {
     "data": {
      "text/plain": [
       "'0b101010110'"
      ]
     },
     "execution_count": 195,
     "metadata": {},
     "output_type": "execute_result"
    }
   ],
   "source": [
    "bin(342) # The prefix 0b in the binary denotes that we are using a binary representation."
   ]
  },
  {
   "cell_type": "code",
   "execution_count": 203,
   "metadata": {
    "slideshow": {
     "slide_type": "fragment"
    }
   },
   "outputs": [
    {
     "name": "stdout",
     "output_type": "stream",
     "text": [
      "10.45\n",
      "10.45\n"
     ]
    }
   ],
   "source": [
    "print(10.45)\n",
    "print(1045E-2)"
   ]
  },
  {
   "cell_type": "markdown",
   "metadata": {
    "slideshow": {
     "slide_type": "slide"
    }
   },
   "source": [
    "It is not possible to represent the number 0.1 *exactly* in the floating point representation (IEEE754) of the computer."
   ]
  },
  {
   "cell_type": "code",
   "execution_count": 215,
   "metadata": {
    "slideshow": {
     "slide_type": "fragment"
    }
   },
   "outputs": [
    {
     "name": "stdout",
     "output_type": "stream",
     "text": [
      "0.1\n",
      "0.100000000000000005551115123126\n"
     ]
    }
   ],
   "source": [
    "print(1.0E-1)\n",
    "print('{0:.30f}'.format(1.0E-1))"
   ]
  },
  {
   "cell_type": "markdown",
   "metadata": {
    "slideshow": {
     "slide_type": "slide"
    }
   },
   "source": [
    "### Example: inexact representation\n",
    "#### Example from Garth N. Wells, CC Attribution Sharealike 4.0.\n",
    "\n",
    "It is trivial that\n",
    "\n",
    "$$\n",
    "x = 11x - 10x\n",
    "$$\n",
    "\n",
    "If $x = 0.1$, we can  write\n",
    "\n",
    "$$\n",
    "x = 11x - 1\n",
    "$$\n",
    "\n",
    "Now, starting with $x = 0.1$ we evaluate the right-hand side to get a 'new' $x$, and use this new $x$ to then evaluate the right-hand side again. The arithmetic is trivial: $x$ should remain equal to $0.1$.\n",
    "We test this in a program that repeats this process 20 times: "
   ]
  },
  {
   "cell_type": "code",
   "execution_count": 213,
   "metadata": {
    "slideshow": {
     "slide_type": "slide"
    }
   },
   "outputs": [
    {
     "name": "stdout",
     "output_type": "stream",
     "text": [
      "0.10000000000000009\n",
      "0.10000000000000098\n",
      "0.10000000000001075\n",
      "0.10000000000011822\n",
      "0.10000000000130038\n",
      "0.1000000000143042\n",
      "0.10000000015734622\n",
      "0.10000000173080847\n",
      "0.10000001903889322\n",
      "0.10000020942782539\n",
      "0.10000230370607932\n",
      "0.10002534076687253\n",
      "0.10027874843559781\n",
      "0.1030662327915759\n",
      "0.13372856070733485\n",
      "0.4710141677806834\n",
      "4.181155845587517\n",
      "44.992714301462684\n",
      "493.9198573160895\n",
      "5432.118430476985\n"
     ]
    }
   ],
   "source": [
    "x = 0.1\n",
    "for i in range(20):\n",
    "    x = x*11 - 1\n",
    "    print(x)"
   ]
  },
  {
   "cell_type": "markdown",
   "metadata": {
    "slideshow": {
     "slide_type": "slide"
    }
   },
   "source": [
    "Normally this is not a problem, but every programmer should be aware of it!"
   ]
  },
  {
   "cell_type": "markdown",
   "metadata": {
    "slideshow": {
     "slide_type": "slide"
    }
   },
   "source": [
    "**Exercise**\n",
    "\n",
    "Compare the computed values of\n",
    "\n",
    "$$d_0 = ab + ac$$\n",
    " \n",
    "and\n",
    "\n",
    "$$d_1 = a(b + c)$$\n",
    " \n",
    "when $a=100$, $b=0.1$ and $c=0.2$. Store $d_0$ in the variable $d0$ and $d_1$ in the variable $d1$.\n",
    "\n",
    "Try checking for equality, e.g. `print(d0 == d1)`. Why are they not equal?"
   ]
  },
  {
   "cell_type": "code",
   "execution_count": 220,
   "metadata": {
    "slideshow": {
     "slide_type": "slide"
    }
   },
   "outputs": [
    {
     "name": "stdout",
     "output_type": "stream",
     "text": [
      "False\n"
     ]
    }
   ],
   "source": [
    "a = 100\n",
    "b = 0.1\n",
    "c = 0.2\n",
    "d0 = a*b + a*c\n",
    "d1 = a*(b + c)\n",
    "print(d0 == d1)"
   ]
  }
 ],
 "metadata": {
  "celltoolbar": "Slideshow",
  "kernelspec": {
   "display_name": "Python 3",
   "language": "python",
   "name": "python3"
  },
  "language_info": {
   "codemirror_mode": {
    "name": "ipython",
    "version": 3
   },
   "file_extension": ".py",
   "mimetype": "text/x-python",
   "name": "python",
   "nbconvert_exporter": "python",
   "pygments_lexer": "ipython3",
   "version": "3.7.1"
  }
 },
 "nbformat": 4,
 "nbformat_minor": 2
}
